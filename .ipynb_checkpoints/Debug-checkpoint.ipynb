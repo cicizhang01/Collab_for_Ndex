{
 "cells": [
  {
   "cell_type": "code",
   "execution_count": null,
   "metadata": {
    "collapsed": false
   },
   "outputs": [],
   "source": [
    "from vpython import *\n",
    "import math"
   ]
  },
  {
   "cell_type": "code",
   "execution_count": null,
   "metadata": {
    "collapsed": false
   },
   "outputs": [],
   "source": [
    "#change into dict, add the object to end of each section\n",
    "node_list ={\n",
    "    \"a\":{\"id\":\"a\",\"x\":543,\"y\":323,\"z\":433,\"lock\":True,\"label\":\"Apple\"},\n",
    "    \"b\":{\"id\":\"b\",\"x\":324,\"y\":530,\"z\":342,\"lock\":False,\"label\":\"Banana\"},\n",
    "    \"c\":{\"id\":\"c\",\"x\":654,\"y\":392,\"z\":214,\"lock\":False,\"label\":\"Cherry\"},\n",
    "    \"d\":{\"id\":\"d\",\"x\":245,\"y\":250,\"z\":123,\"lock\":False},\n",
    "    \"e\":{\"id\":\"e\",\"x\":123,\"y\":234,\"z\":345,\"lock\":False,\"label\":\"Dragonfruit\"}\n",
    "}\n",
    "#put object at end of each section\n",
    "edge_list = [\n",
    "    {\"source\":\"a\", \"target\":\"b\"}, \n",
    "    {\"source\":\"a\", \"target\":\"c\"}, \n",
    "    {\"source\":\"a\", \"target\":\"d\"},\n",
    "    {\"source\":\"b\", \"target\":\"d\"},\n",
    "    {\"source\":\"c\",\"target\":\"e\"}\n",
    "]\n",
    "\n",
    "natLength = 200\n",
    "ks = 0.3\n",
    "kg = 90\n",
    "maxRepulsion = 300\n",
    "maxZ = 500\n",
    "ZDecreaser = 5\n",
    "loopInterval = 0.01\n",
    "\n",
    "\n",
    "#for key, value in d.iteritems():\n",
    "def draw_nodes(list):\n",
    "    for id, properties in list.iteritems():\n",
    "        xcoords = properties[\"x\"]\n",
    "        ycoords = properties[\"y\"]\n",
    "        zcoords = properties[\"z\"]\n",
    "        object = sphere(pos=vector(xcoords,ycoords,zcoords),\n",
    "                        radius=10,\n",
    "                        color=color.green,\n",
    "                        make_trail = True)\n",
    "        node_id = properties[\"id\"]\n",
    "        properties[\"sphere\"] = object\n",
    "    draw_label(list)\n",
    "def draw_edge(list):\n",
    "    for edge in list:\n",
    "        for id,properties in node_list.iteritems():\n",
    "            if edge[\"source\"] == id:\n",
    "                sourceX = properties[\"x\"]\n",
    "                sourceY = properties[\"y\"]\n",
    "                sourceZ = properties[\"z\"]\n",
    "            if edge[\"target\"] == id:\n",
    "                targetX = properties[\"x\"]\n",
    "                targetY = properties[\"y\"]\n",
    "                targetZ = properties[\"z\"]     \n",
    "        object = arrow(pos = vector(sourceX, sourceY, sourceZ),\n",
    "                       axis = vector(targetX-sourceX, targetY-sourceY, targetZ-sourceZ), \n",
    "                       shaftwidth = 5)\n",
    "        edge[\"arrow\"] = object               \n",
    "\n",
    "def draw_label(list):\n",
    "    for id,properties in list.iteritems():\n",
    "        xcoords = properties[\"x\"]\n",
    "        ycoords = properties[\"y\"]\n",
    "        zcoords = properties[\"z\"]\n",
    "        if properties.get(\"label\"):\n",
    "            textMess = properties[\"label\"]\n",
    "            object = label( pos=vec(xcoords, ycoords, zcoords), text= textMess)\n",
    "            node_id = id\n",
    "            properties[\"sign\"] = object\n",
    "            \n",
    "def draw(nodes, edges):\n",
    "    draw_edge(edges)\n",
    "    draw_nodes(nodes)\n"
   ]
  },
  {
   "cell_type": "code",
   "execution_count": null,
   "metadata": {
    "collapsed": false
   },
   "outputs": [],
   "source": [
    "def move(forceX,forceY,forceZ,node_id):\n",
    "        node = node_list[node_id]\n",
    "        xPos = node[\"x\"]\n",
    "        yPos = node[\"y\"]\n",
    "        zPos = node[\"z\"]\n",
    "        newxPos = xPos+forceX\n",
    "        newyPos = yPos+forceY\n",
    "        newzPos = zPos+forceZ\n",
    "        if newzPos > maxZ:\n",
    "            newzPos = maxZ\n",
    "        if newzPos < -maxZ:\n",
    "            newzPos = -maxZ\n",
    "        node[\"sphere\"].pos=vector(newxPos,newyPos,newzPos)\n",
    "        if node.get(\"label\"):\n",
    "            node[\"sign\"].pos=vector(newxPos,newyPos,newzPos)\n",
    "        node[\"x\"] = newxPos\n",
    "        node[\"y\"] = newyPos\n",
    "        node[\"z\"] = newzPos\n",
    "\n",
    "def move_edges():\n",
    "    for edge in edge_list:\n",
    "        sourceNode = node_list[edge[\"source\"]]\n",
    "        targetNode = node_list[edge[\"target\"]]\n",
    "        arrow = edge[\"arrow\"]\n",
    "        sourcex = sourceNode[\"x\"]\n",
    "        sourcey = sourceNode[\"y\"]\n",
    "        sourcez = sourceNode[\"z\"]\n",
    "        targetx = targetNode[\"x\"] - sourceNode[\"x\"]\n",
    "        targety = targetNode[\"y\"] - sourceNode[\"y\"]\n",
    "        targetz = targetNode[\"z\"] - sourceNode[\"z\"]\n",
    "        arrow.pos = vector(sourcex,sourcey,sourcez) \n",
    "        arrow.axis = vector(targetx, targety, targetz)"
   ]
  },
  {
   "cell_type": "code",
   "execution_count": null,
   "metadata": {
    "collapsed": true
   },
   "outputs": [],
   "source": [
    "def hookesLaw(a,b):\n",
    "    xdist = b[\"x\"]-a[\"x\"]\n",
    "    ydist = b[\"y\"]-a[\"y\"]\n",
    "    zdist = b[\"z\"]-a[\"z\"]\n",
    "    d3 = xdist*xdist+ydist*ydist+zdist*zdist\n",
    "    d3 = math.sqrt(d3)\n",
    "    distance = d3-natLength\n",
    "    if d3 == 0:\n",
    "        return [0,0,0]\n",
    "    if d3 != 0:\n",
    "        force = ks*distance/d3\n",
    "    return [xdist*force, ydist*force,zdist*force ]\n",
    "\n",
    "def coulombsLaw(a,b):\n",
    "    xdist = b[\"x\"]-a[\"x\"]\n",
    "    ydist = b[\"y\"]-a[\"y\"]\n",
    "    zdist = b[\"z\"]-a[\"z\"]\n",
    "    d3 = xdist*xdist+ydist*ydist+zdist*zdist\n",
    "    d3 = math.sqrt(d3)\n",
    "    if d3 == 0 or d3 > maxRepulsion:\n",
    "        return [0,0,0]\n",
    "    if d3 != 0 and d3 < maxRepulsion:\n",
    "        force = kg/(d3*d3)\n",
    "    return [-force*xdist,-force*ydist,-force*zdist]\n"
   ]
  },
  {
   "cell_type": "code",
   "execution_count": null,
   "metadata": {
    "collapsed": false
   },
   "outputs": [],
   "source": [
    "def Iter2D(node):\n",
    "    zcoord = node[\"z\"]\n",
    "    if zcoord > maxZ:\n",
    "        return True\n",
    "    else:\n",
    "        return False"
   ]
  },
  {
   "cell_type": "code",
   "execution_count": null,
   "metadata": {
    "collapsed": true
   },
   "outputs": [],
   "source": [
    "def loop():\n",
    "    draw(node_list,edge_list)\n",
    "    numLoops = 0\n",
    "    startedIter = False\n",
    "    while True:\n",
    "        sleep(loopInterval)\n",
    "        for node1, properties1 in node_list.iteritems():\n",
    "            netForceX = 0\n",
    "            netForceY = 0\n",
    "            netForceZ = 0\n",
    "            if properties1[\"lock\"] == False:\n",
    "                for node2, properties2 in node_list.iteritems():\n",
    "                    if node1 != node2:\n",
    "                        addedXCForce = coulombsLaw(properties1,properties2)[0]\n",
    "                        addedYCForce = coulombsLaw(properties1,properties2)[1]\n",
    "                        addedZCForce = coulombsLaw(properties1,properties2)[2]\n",
    "                        netForceX = netForceX + addedXCForce\n",
    "                        netForceY = netForceY + addedYCForce\n",
    "                        netForceZ = netForceZ + addedZCForce\n",
    "                for edge in edge_list:\n",
    "                    if node1 == edge[\"source\"]:\n",
    "                        for search,prop in node_list.iteritems():\n",
    "                            if edge[\"target\"] == search:   \n",
    "                                addedXHForce = hookesLaw(properties1, prop)[0]\n",
    "                                addedYHForce = hookesLaw(properties1, prop)[1]\n",
    "                                addedZHForce = hookesLaw(properties1, prop)[2]\n",
    "                                netForceX = netForceX + addedXHForce\n",
    "                                netForceY = netForceY + addedYHForce\n",
    "                                netForceZ = netForceZ + addedZHForce\n",
    "                    if node1 == edge[\"target\"]:\n",
    "                        for search,prop in node_list.iteritems():\n",
    "                            if edge[\"source\"] == search:  \n",
    "                                addedXHForce = hookesLaw(properties1, prop)[0]\n",
    "                                addedYHForce = hookesLaw(properties1, prop)[1]\n",
    "                                addedZHForce = hookesLaw(properties1, prop)[2]\n",
    "                                netForceX = netForceX + addedXHForce\n",
    "                                netForceY = netForceY + addedYHForce\n",
    "                                netForceZ = netForceZ + addedZHForce\n",
    "                move(netForceX,netForceY,netForceZ,node1)\n",
    "            #if numLoops > 50 and maxZ >= 0:\n",
    "                #startedIter = True\n",
    "                #if Iter2D(node1):\n",
    "                    #netForceZ = maxZ - node1[\"z\"]\n",
    "                    #for idNum in range(len(drawnNodes)):\n",
    "                        #if drawnNodes[idNum] == node1[\"id\"]:\n",
    "                            #move(0,0,netForceZ,idNum)    \n",
    "\n",
    "\n",
    "                \n",
    "        move_edges()\n",
    "        if startedIter:\n",
    "            maxZ = maxZ - ZDecreaser\n",
    "        numLoops = numLoops + 1"
   ]
  },
  {
   "cell_type": "code",
   "execution_count": null,
   "metadata": {
    "collapsed": false
   },
   "outputs": [],
   "source": [
    "loop()"
   ]
  },
  {
   "cell_type": "code",
   "execution_count": null,
   "metadata": {
    "collapsed": true
   },
   "outputs": [],
   "source": []
  }
 ],
 "metadata": {
  "kernelspec": {
   "display_name": "VPython",
   "language": "python",
   "name": "vpython"
  },
  "language_info": {
   "codemirror_mode": {
    "name": "ipython",
    "version": 2
   },
   "file_extension": ".py",
   "mimetype": "text/x-python",
   "name": "python",
   "nbconvert_exporter": "python",
   "pygments_lexer": "ipython2",
   "version": "2.7.13"
  }
 },
 "nbformat": 4,
 "nbformat_minor": 0
}
