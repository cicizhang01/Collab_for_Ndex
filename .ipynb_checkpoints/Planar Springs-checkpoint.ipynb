{
 "cells": [
  {
   "cell_type": "code",
   "execution_count": 1,
   "metadata": {
    "collapsed": false,
    "scrolled": true
   },
   "outputs": [
    {
     "data": {
      "application/javascript": [
       "require.undef(\"nbextensions/vpython_libraries/glow.min\");"
      ],
      "text/plain": [
       "<IPython.core.display.Javascript object>"
      ]
     },
     "metadata": {},
     "output_type": "display_data"
    },
    {
     "data": {
      "application/javascript": [
       "require.undef(\"nbextensions/vpython_libraries/glowcomm\");"
      ],
      "text/plain": [
       "<IPython.core.display.Javascript object>"
      ]
     },
     "metadata": {},
     "output_type": "display_data"
    },
    {
     "data": {
      "application/javascript": [
       "require.undef(\"nbextensions/vpython_libraries/jquery-ui.custom.min\");"
      ],
      "text/plain": [
       "<IPython.core.display.Javascript object>"
      ]
     },
     "metadata": {},
     "output_type": "display_data"
    },
    {
     "data": {
      "application/javascript": [
       "require([\"nbextensions/vpython_libraries/glow.min\"], function(){console.log(\"GLOW LOADED\");})"
      ],
      "text/plain": [
       "<IPython.core.display.Javascript object>"
      ]
     },
     "metadata": {},
     "output_type": "display_data"
    },
    {
     "data": {
      "application/javascript": [
       "require([\"nbextensions/vpython_libraries/glowcomm\"], function(){console.log(\"GLOWCOMM LOADED\");})"
      ],
      "text/plain": [
       "<IPython.core.display.Javascript object>"
      ]
     },
     "metadata": {},
     "output_type": "display_data"
    },
    {
     "data": {
      "application/javascript": [
       "require([\"nbextensions/vpython_libraries/jquery-ui.custom.min\"], function(){console.log(\"JQUERY LOADED\");})"
      ],
      "text/plain": [
       "<IPython.core.display.Javascript object>"
      ]
     },
     "metadata": {},
     "output_type": "display_data"
    },
    {
     "data": {
      "text/html": [
       "<div id=\"glowscript\" class=\"glowscript\"></div>"
      ],
      "text/plain": [
       "<IPython.core.display.HTML object>"
      ]
     },
     "metadata": {},
     "output_type": "display_data"
    },
    {
     "data": {
      "application/javascript": [
       "window.__context = { glowscript_container: $(\"#glowscript\").removeAttr(\"id\")}"
      ],
      "text/plain": [
       "<IPython.core.display.Javascript object>"
      ]
     },
     "metadata": {},
     "output_type": "display_data"
    }
   ],
   "source": [
    "from vpython import *\n",
    "import math\n",
    "import random\n",
    "from ndex.networkn import NdexGraph\n",
    "import json"
   ]
  },
  {
   "cell_type": "code",
   "execution_count": 2,
   "metadata": {
    "collapsed": true
   },
   "outputs": [],
   "source": [
    "#\"b\":{\"id\":\"b\",\"x\":324,\"y\":530,\"z\":342,\"lock\":False,\"label\":\"Banana\"}\n",
    "node_list ={\n",
    "}\n",
    "\n",
    "edge_list = [\n",
    "]\n",
    "\n",
    "natLength = 200\n",
    "ks = 0.3\n",
    "kg = 90\n",
    "maxRepulsion = 300\n",
    "maxZ = 500\n",
    "ZDecreaser = 1\n",
    "loopInterval = 0.01\n",
    "iterBegin = 200\n",
    "maxLoops = 1000\n",
    "cxFile = 'Spring Layout/Hedgehog.cx'\n",
    "sourceXLock = 0\n",
    "targetXLock = 500\n",
    "\n",
    "#for key, value in d.iteritems():\n",
    "def draw_nodes(list):\n",
    "    for id, properties in list.iteritems():\n",
    "        xcoords = properties[\"x\"]\n",
    "        ycoords = properties[\"y\"]\n",
    "        zcoords = properties[\"z\"]\n",
    "        object = sphere(pos=vector(xcoords,ycoords,zcoords),\n",
    "                        radius=10,\n",
    "                        color=color.green,\n",
    "                        make_trail = False)\n",
    "        node_id = properties[\"id\"]\n",
    "        properties[\"sphere\"] = object\n",
    "    draw_label(list)\n",
    "def draw_edge(list):\n",
    "    sourceX = 0\n",
    "    sourceY = 0\n",
    "    sourceZ = 0\n",
    "    targetX = 0\n",
    "    targetY = 0\n",
    "    targetZ = 0\n",
    "    for edge in list:\n",
    "        for id,properties in node_list.iteritems():\n",
    "            if edge[\"source\"] == id:\n",
    "                sourceX = properties[\"x\"]\n",
    "                sourceY = properties[\"y\"]\n",
    "                sourceZ = properties[\"z\"]\n",
    "            if edge[\"target\"] == id:\n",
    "                targetX = properties[\"x\"]\n",
    "                targetY = properties[\"y\"]\n",
    "                targetZ = properties[\"z\"]     \n",
    "        object = arrow(pos = vector(sourceX, sourceY, sourceZ),\n",
    "                       axis = vector(targetX-sourceX, targetY-sourceY, targetZ-sourceZ), \n",
    "                       shaftwidth = 5)\n",
    "        edge[\"arrow\"] = object               \n",
    "\n",
    "def draw_label(list):\n",
    "    for id,properties in list.iteritems():\n",
    "        xcoords = properties[\"x\"]\n",
    "        ycoords = properties[\"y\"]\n",
    "        zcoords = properties[\"z\"]\n",
    "        if properties.get(\"label\"):\n",
    "            textMess = properties[\"label\"]\n",
    "            object = label( pos=vec(xcoords, ycoords, zcoords), text= textMess)\n",
    "            node_id = id\n",
    "            properties[\"sign\"] = object\n",
    "            \n",
    "def draw(nodes, edges):\n",
    "    draw_edge(edges)\n",
    "    draw_nodes(nodes)\n"
   ]
  },
  {
   "cell_type": "code",
   "execution_count": 3,
   "metadata": {
    "collapsed": true
   },
   "outputs": [],
   "source": [
    "def loader(file):\n",
    "    with open(file) as data_file:\n",
    "        data = json.load(data_file)\n",
    "    for item in data:\n",
    "        for key, value in item.items():\n",
    "            if key == \"edges\":\n",
    "                for edge in value:\n",
    "                    edgeDict = {}\n",
    "                    edgeDict[\"source\"] = str(edge[\"s\"])\n",
    "                    edgeDict[\"target\"] = str(edge[\"t\"])\n",
    "                    edge_list.append(edgeDict)\n",
    "            if key == \"nodes\":\n",
    "                for node in value:\n",
    "                    nodeProperties = {}\n",
    "                    nodeProperties[\"id\"] = node.get(\"n\")\n",
    "                    nodeProperties[\"x\"] = random.randint(1,maxZ)\n",
    "                    nodeProperties[\"y\"] = random.randint(1,maxZ)\n",
    "                    nodeProperties[\"z\"] = random.randint(1,maxZ)\n",
    "                    nodeProperties[\"lock\"] = False\n",
    "                    node_list[str(node.get(\"@id\"))] = nodeProperties\n",
    "    categorizing()"
   ]
  },
  {
   "cell_type": "code",
   "execution_count": 4,
   "metadata": {
    "collapsed": true
   },
   "outputs": [],
   "source": [
    "def categorizing():\n",
    "    for node, properties in node_list.iteritems():\n",
    "        in_count = 0\n",
    "        out_count = 0\n",
    "        for edge in edge_list:\n",
    "            if node == edge.get(\"source\"):\n",
    "                out_count = out_count + 1\n",
    "            if node == edge.get(\"target\"):\n",
    "                in_count = in_count + 1\n",
    "        if in_count > 0 and out_count == 0:\n",
    "            properties[\"category\"] = \"Target\"\n",
    "            properties[\"x\"] = targetXLock\n",
    "        elif out_count > 0 and in_count == 0:\n",
    "            properties[\"category\"] = \"Source\"\n",
    "            properties[\"x\"] = sourceXLock\n",
    "        elif in_count > 0 and out_count > 0:\n",
    "            properties[\"category\"] = \"Middle\"\n",
    "    "
   ]
  },
  {
   "cell_type": "code",
   "execution_count": 5,
   "metadata": {
    "collapsed": true
   },
   "outputs": [],
   "source": [
    "def move(forceX,forceY,forceZ,node_id,maxZ,startedIter):\n",
    "    maxed = maxZ\n",
    "    node = node_list[node_id]\n",
    "    xPos = node[\"x\"]\n",
    "    yPos = node[\"y\"]\n",
    "    zPos = node[\"z\"]\n",
    "    newxPos = xPos+forceX\n",
    "    newyPos = yPos+forceY\n",
    "    newzPos = zPos+forceZ\n",
    "    if startedIter:\n",
    "        if newzPos > maxed:\n",
    "            newzPos = maxed\n",
    "        if newzPos < -maxed:\n",
    "            newzPos = -maxed\n",
    "    node[\"sphere\"].pos=vector(newxPos,newyPos,newzPos)\n",
    "    if node.get(\"label\"):\n",
    "        node[\"sign\"].pos=vector(newxPos,newyPos,newzPos)\n",
    "    node[\"x\"] = newxPos\n",
    "    node[\"y\"] = newyPos\n",
    "    node[\"z\"] = newzPos\n",
    "\n",
    "\n",
    "def move_edges():\n",
    "    for edge in edge_list:\n",
    "        sourceNode = node_list[edge[\"source\"]]\n",
    "        targetNode = node_list[edge[\"target\"]]\n",
    "        arrow = edge[\"arrow\"]\n",
    "        sourcex = sourceNode[\"x\"]\n",
    "        sourcey = sourceNode[\"y\"]\n",
    "        sourcez = sourceNode[\"z\"]\n",
    "        targetx = targetNode[\"x\"] - sourceNode[\"x\"]\n",
    "        targety = targetNode[\"y\"] - sourceNode[\"y\"]\n",
    "        targetz = targetNode[\"z\"] - sourceNode[\"z\"]\n",
    "        arrow.pos = vector(sourcex,sourcey,sourcez) \n",
    "        arrow.axis = vector(targetx, targety, targetz)"
   ]
  },
  {
   "cell_type": "code",
   "execution_count": 6,
   "metadata": {
    "collapsed": true
   },
   "outputs": [],
   "source": [
    "def hookesLaw(a,b,constant):\n",
    "    xdist = b.get(\"x\")-a.get(\"x\")\n",
    "    ydist = b.get(\"y\")-a.get(\"y\")\n",
    "    zdist = b.get(\"z\")-a.get(\"z\")\n",
    "    d2 = xdist*xdist+ydist*ydist+zdist*zdist\n",
    "    d3 = math.sqrt(d2)\n",
    "    distance = d3-natLength\n",
    "    if d2 == 0:\n",
    "        return [0,0,0]\n",
    "    if d2 != 0:\n",
    "        force = constant*distance/d3\n",
    "        return [xdist*force, ydist*force,zdist*force ]\n",
    "\n",
    "def coulombsLaw(a,b):\n",
    "    xdist = b.get(\"x\")-a.get(\"x\")\n",
    "    ydist = b.get(\"y\")-a.get(\"y\")\n",
    "    zdist = b.get(\"z\")-a.get(\"z\")\n",
    "    d2 = xdist*xdist+ydist*ydist+zdist*zdist\n",
    "    d3 = math.sqrt(d2)\n",
    "    if d2 == 0 or d3 >= maxRepulsion:\n",
    "        return [0,0,0]\n",
    "    if d2 != 0 and d3 < maxRepulsion:\n",
    "        force = kg/(d3*d3)\n",
    "        return [-force*xdist,-force*ydist,-force*zdist]"
   ]
  },
  {
   "cell_type": "code",
   "execution_count": 7,
   "metadata": {
    "collapsed": true
   },
   "outputs": [],
   "source": [
    "def scaleFactoring():\n",
    "    numNodes = len(node_list)\n",
    "    springConstant = ks\n",
    "    if numNodes < 150:\n",
    "        return springConstant\n",
    "    if numNodes >= 100:\n",
    "        factor = springConstant/math.sqrt(numNodes)\n",
    "        return factor"
   ]
  },
  {
   "cell_type": "code",
   "execution_count": 8,
   "metadata": {
    "collapsed": false
   },
   "outputs": [],
   "source": [
    "def loop():\n",
    "    loader(cxFile)\n",
    "    draw(node_list,edge_list)\n",
    "    numLoops = 0\n",
    "    startedIter = False\n",
    "    springConstant = scaleFactoring()\n",
    "    maxed = maxZ\n",
    "    while True:\n",
    "        sleep(loopInterval)\n",
    "        if numLoops > iterBegin:\n",
    "            startedIter = True\n",
    "        for node1, properties1 in node_list.iteritems():\n",
    "            netForceX = 0\n",
    "            netForceY = 0\n",
    "            netForceZ = 0\n",
    "            if properties1[\"lock\"] == False:\n",
    "                for node2, properties2 in node_list.iteritems():\n",
    "                    if node1 != node2:\n",
    "                        forceCArray = coulombsLaw(properties1, properties2)\n",
    "                        addedXCForce = forceCArray[0]\n",
    "                        addedYCForce = forceCArray[1]\n",
    "                        addedZCForce = forceCArray[2]\n",
    "                        netForceX = netForceX + addedXCForce\n",
    "                        netForceY = netForceY + addedYCForce\n",
    "                        netForceZ = netForceZ + addedZCForce\n",
    "                for edge in edge_list:\n",
    "                    if node1 == edge[\"source\"]:\n",
    "                        for search,prop in node_list.iteritems():\n",
    "                            if edge[\"target\"] == search:   \n",
    "                                forceHArray = hookesLaw(properties1, prop, springConstant)\n",
    "                                addedXHForce = forceHArray[0]\n",
    "                                addedYHForce = forceHArray[1]\n",
    "                                addedZHForce = forceHArray[2]\n",
    "                                netForceX = netForceX + addedXHForce\n",
    "                                netForceY = netForceY + addedYHForce\n",
    "                                netForceZ = netForceZ + addedZHForce\n",
    "                    if node1 == edge[\"target\"]:\n",
    "                        for search,prop in node_list.iteritems():\n",
    "                            if edge[\"source\"] == search:  \n",
    "                                forceHArray = hookesLaw(properties1, prop, springConstant)\n",
    "                                addedXHForce = forceHArray[0]\n",
    "                                addedYHForce = forceHArray[1]\n",
    "                                addedZHForce = forceHArray[2]\n",
    "                                netForceX = netForceX + addedXHForce\n",
    "                                netForceY = netForceY + addedYHForce\n",
    "                                netForceZ = netForceZ + addedZHForce\n",
    "            if properties1.get(\"category\") == \"Source\" or properties1.get(\"category\") == \"Target\":\n",
    "                netForceX = 0\n",
    "            move(netForceX,netForceY,netForceZ,node1, maxed,startedIter)\n",
    "        if startedIter and maxed !=0:\n",
    "            maxed = maxed - ZDecreaser\n",
    "        if maxLoops > 0 and numLoops > maxLoops:\n",
    "            break\n",
    "            \n",
    "        move_edges()\n",
    "        numLoops = numLoops + 1"
   ]
  },
  {
   "cell_type": "code",
   "execution_count": 9,
   "metadata": {
    "collapsed": false
   },
   "outputs": [],
   "source": [
    "loop()"
   ]
  },
  {
   "cell_type": "code",
   "execution_count": null,
   "metadata": {
    "collapsed": true
   },
   "outputs": [],
   "source": []
  }
 ],
 "metadata": {
  "kernelspec": {
   "display_name": "VPython",
   "language": "python",
   "name": "vpython"
  },
  "language_info": {
   "codemirror_mode": {
    "name": "ipython",
    "version": 2
   },
   "file_extension": ".py",
   "mimetype": "text/x-python",
   "name": "python",
   "nbconvert_exporter": "python",
   "pygments_lexer": "ipython2",
   "version": "2.7.13"
  }
 },
 "nbformat": 4,
 "nbformat_minor": 0
}
