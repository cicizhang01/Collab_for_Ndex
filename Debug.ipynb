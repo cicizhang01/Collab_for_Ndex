{
 "cells": [
  {
   "cell_type": "code",
   "execution_count": 1,
   "metadata": {
    "collapsed": false
   },
   "outputs": [
    {
     "data": {
      "application/javascript": [
       "require.undef(\"nbextensions/vpython_libraries/glow.min\");"
      ],
      "text/plain": [
       "<IPython.core.display.Javascript object>"
      ]
     },
     "metadata": {},
     "output_type": "display_data"
    },
    {
     "data": {
      "application/javascript": [
       "require.undef(\"nbextensions/vpython_libraries/glowcomm\");"
      ],
      "text/plain": [
       "<IPython.core.display.Javascript object>"
      ]
     },
     "metadata": {},
     "output_type": "display_data"
    },
    {
     "data": {
      "application/javascript": [
       "require.undef(\"nbextensions/vpython_libraries/jquery-ui.custom.min\");"
      ],
      "text/plain": [
       "<IPython.core.display.Javascript object>"
      ]
     },
     "metadata": {},
     "output_type": "display_data"
    },
    {
     "data": {
      "application/javascript": [
       "require([\"nbextensions/vpython_libraries/glow.min\"], function(){console.log(\"GLOW LOADED\");})"
      ],
      "text/plain": [
       "<IPython.core.display.Javascript object>"
      ]
     },
     "metadata": {},
     "output_type": "display_data"
    },
    {
     "data": {
      "application/javascript": [
       "require([\"nbextensions/vpython_libraries/glowcomm\"], function(){console.log(\"GLOWCOMM LOADED\");})"
      ],
      "text/plain": [
       "<IPython.core.display.Javascript object>"
      ]
     },
     "metadata": {},
     "output_type": "display_data"
    },
    {
     "data": {
      "application/javascript": [
       "require([\"nbextensions/vpython_libraries/jquery-ui.custom.min\"], function(){console.log(\"JQUERY LOADED\");})"
      ],
      "text/plain": [
       "<IPython.core.display.Javascript object>"
      ]
     },
     "metadata": {},
     "output_type": "display_data"
    },
    {
     "data": {
      "text/html": [
       "<div id=\"glowscript\" class=\"glowscript\"></div>"
      ],
      "text/plain": [
       "<IPython.core.display.HTML object>"
      ]
     },
     "metadata": {},
     "output_type": "display_data"
    },
    {
     "data": {
      "application/javascript": [
       "window.__context = { glowscript_container: $(\"#glowscript\").removeAttr(\"id\")}"
      ],
      "text/plain": [
       "<IPython.core.display.Javascript object>"
      ]
     },
     "metadata": {},
     "output_type": "display_data"
    }
   ],
   "source": [
    "from vpython import *\n",
    "import math"
   ]
  },
  {
   "cell_type": "code",
   "execution_count": 2,
   "metadata": {
    "collapsed": false
   },
   "outputs": [],
   "source": [
    "node_list = [{\"id\":\"a\",\"x\":543,\"y\":323,\"z\":433,\"lock\":True},{\"id\":\"b\",\"x\":324,\"y\":530,\"z\":342,\"lock\":False},{\"id\":\"c\",\"x\":654,\"y\":392,\"z\":214,\"lock\":False},{\"id\":\"d\",\"x\":245,\"y\":250,\"z\":123,\"lock\":False}, {\"id\":\"e\",\"x\":123,\"y\":234,\"z\":345,\"lock\":False}]\n",
    "edge_list = [{\"source\":\"a\", \"target\":\"b\"}, {\"source\":\"a\", \"target\":\"c\"}, {\"source\":\"a\", \"target\":\"d\"}, {\"source\":\"b\", \"target\":\"d\"}, {\"source\":\"c\",\"target\":\"e\"}]\n",
    "\n",
    "natLength = 200\n",
    "ks = 0.3\n",
    "kg = 90\n",
    "maxRepulsion = 300\n",
    "drawnNodes = []\n",
    "drawnLines = []\n",
    "def draw_nodes(list):\n",
    "    for drawN in list:\n",
    "        xcoords = drawN[\"x\"]\n",
    "        ycoords = drawN[\"y\"]\n",
    "        zcoords = drawN[\"z\"]\n",
    "        id = sphere(pos=vector(xcoords,ycoords,zcoords),radius=10,color=color.green, make_trail = True)\n",
    "        drawnNodes.append(drawN[\"id\"])\n",
    "        drawnNodes.append(id)\n",
    "def draw_edge(list):\n",
    "    for drawE in list:\n",
    "        for node in node_list:\n",
    "            if drawE[\"source\"] == node[\"id\"]:\n",
    "                sourceX = node[\"x\"]\n",
    "                sourceY = node[\"y\"]\n",
    "                sourceZ = node[\"z\"]\n",
    "            if drawE[\"target\"] == node[\"id\"]:\n",
    "                targetX = node[\"x\"]\n",
    "                targetY = node[\"y\"]\n",
    "                targetZ = node[\"z\"]     \n",
    "        id = arrow(pos = vector(sourceX, sourceY, sourceZ), axis = vector(targetX-sourceX, targetY-sourceY, targetZ-sourceZ), shaftwidth = 5)\n",
    "        drawnLines.append(id)               \n",
    "\n",
    "def draw(nodes, edges):\n",
    "    draw_edge(edges)\n",
    "    draw_nodes(nodes)"
   ]
  },
  {
   "cell_type": "code",
   "execution_count": 3,
   "metadata": {
    "collapsed": false
   },
   "outputs": [],
   "source": [
    "def move(x,y,z,id):\n",
    "        xPos = node_list[int(id/2)][\"x\"]\n",
    "        yPos = node_list[int(id/2)][\"y\"]\n",
    "        zPos = node_list[int(id/2)][\"z\"]\n",
    "        newxPos = xPos+x\n",
    "        newyPos = yPos+y\n",
    "        newzPos = zPos+z\n",
    "        drawnNodes[id+1].pos=vector(newxPos,newyPos,newzPos)\n",
    "        node_list[int(id/2)][\"x\"] = newxPos\n",
    "        node_list[int(id/2)][\"y\"] = newyPos\n",
    "        node_list[int(id/2)][\"z\"] = newzPos\n",
    "\n",
    "def move_edges():\n",
    "    for i in range(len(edge_list)):\n",
    "        idNum = 0\n",
    "        for nodes in node_list:\n",
    "            if nodes[\"id\"] == edge_list[i][\"source\"]:\n",
    "                sourceId = idNum\n",
    "            if nodes[\"id\"] == edge_list[i][\"target\"]:\n",
    "                targetId = idNum\n",
    "            idNum = idNum + 1\n",
    "        sourcex = node_list[sourceId][\"x\"]\n",
    "        sourcey = node_list[sourceId][\"y\"]\n",
    "        sourcez = node_list[sourceId][\"z\"]\n",
    "        targetx = node_list[targetId][\"x\"] - node_list[sourceId][\"x\"]\n",
    "        targety = node_list[targetId][\"y\"] - node_list[sourceId][\"y\"]\n",
    "        targetz = node_list[targetId][\"z\"] - node_list[sourceId][\"z\"]\n",
    "        drawnLines[i].pos = vector(sourcex,sourcey,sourcez) \n",
    "        drawnLines[i].axis = vector(targetx, targety, targetz)"
   ]
  },
  {
   "cell_type": "code",
   "execution_count": 4,
   "metadata": {
    "collapsed": true
   },
   "outputs": [],
   "source": [
    "def hookesLaw(a,b):\n",
    "    xdist = b[\"x\"]-a[\"x\"]\n",
    "    ydist = b[\"y\"]-a[\"y\"]\n",
    "    zdist = b[\"z\"]-a[\"z\"]\n",
    "    d3 = xdist*xdist+ydist*ydist+zdist*zdist\n",
    "    d3 = math.sqrt(d3)\n",
    "    distance = d3-natLength\n",
    "    if d3 == 0:\n",
    "        return [0,0,0]\n",
    "    if d3 != 0:\n",
    "        force = ks*distance/d3\n",
    "    return [xdist*force, ydist*force,zdist*force ]\n",
    "\n",
    "def coulombsLaw(a,b):\n",
    "    xdist = b[\"x\"]-a[\"x\"]\n",
    "    ydist = b[\"y\"]-a[\"y\"]\n",
    "    zdist = b[\"z\"]-a[\"z\"]\n",
    "    d3 = xdist*xdist+ydist*ydist+zdist*zdist\n",
    "    d3 = math.sqrt(d3)\n",
    "    if d3 == 0 or d3 > maxRepulsion:\n",
    "        return [0,0,0]\n",
    "    if d3 != 0 and d3 < maxRepulsion:\n",
    "        force = kg/(d3*d3)\n",
    "    return [-force*xdist,-force*ydist,-force*zdist]\n"
   ]
  },
  {
   "cell_type": "code",
   "execution_count": 5,
   "metadata": {
    "collapsed": true
   },
   "outputs": [],
   "source": [
    "def loop():\n",
    "\n",
    "    while True:\n",
    "        sleep(0.05)\n",
    "        for node1 in node_list:\n",
    "            netForceX = 0\n",
    "            netForceY = 0\n",
    "            netForceZ = 0\n",
    "            if node1[\"lock\"] == False:\n",
    "                for node2 in node_list:\n",
    "                    if node1[\"id\"] != node2[\"id\"]:\n",
    "                        addedXCForce = coulombsLaw(node1,node2)[0]\n",
    "                        addedYCForce = coulombsLaw(node1,node2)[1]\n",
    "                        addedZCForce = coulombsLaw(node1,node2)[2]\n",
    "                        netForceX = netForceX + addedXCForce\n",
    "                        netForceY = netForceY + addedYCForce\n",
    "                        netForceZ = netForceZ + addedZCForce\n",
    "                for i in range(len(edge_list)):\n",
    "                    if node1[\"id\"] == edge_list[i][\"source\"]:\n",
    "                        for search in node_list:\n",
    "                            if edge_list[i][\"target\"] == search[\"id\"]:   \n",
    "                                addedXHForce = hookesLaw(node1, search)[0]\n",
    "                                addedYHForce = hookesLaw(node1, search)[1]\n",
    "                                addedZHForce = hookesLaw(node1, search)[2]\n",
    "                                netForceX = netForceX + addedXHForce\n",
    "                                netForceY = netForceY + addedYHForce\n",
    "                                netForceZ = netForceZ + addedZHForce\n",
    "                    if node1[\"id\"] == edge_list[i][\"target\"]:\n",
    "                        for search in node_list:\n",
    "                            if edge_list[i][\"source\"] == search[\"id\"]:  \n",
    "                                addedXHForce = hookesLaw(node1, search)[0]\n",
    "                                addedYHForce = hookesLaw(node1, search)[1]\n",
    "                                addedZHForce = hookesLaw(node1, search)[2]\n",
    "                                netForceX = netForceX + addedXHForce\n",
    "                                netForceY = netForceY + addedYHForce\n",
    "                                netForceZ = netForceZ + addedZHForce\n",
    "#Draw stuff here\n",
    "                for idNum in range(len(drawnNodes)):\n",
    "                    if drawnNodes[idNum] == node1[\"id\"]:\n",
    "                        move(netForceX,netForceY,netForceZ,idNum)\n",
    "        move_edges()\n"
   ]
  },
  {
   "cell_type": "code",
   "execution_count": null,
   "metadata": {
    "collapsed": false
   },
   "outputs": [],
   "source": [
    "draw(node_list,edge_list)\n",
    "loop()\n",
    "\n",
    "\n",
    "#while True:\n",
    "#    sleep(0.02)\n",
    "#    for node1 in node_list:\n",
    "#        netForceX = 5\n",
    "#       netForceY = 5\n",
    "#        netForceZ = 5\n",
    "#        if node1[\"lock\"] == False:\n",
    "#            for idNum in range(len(drawnNodes)):\n",
    "#                if drawnNodes[idNum] == node1[\"id\"]:\n",
    "#                    move(netForceX,netForceY,netForceZ,idNum)"
   ]
  },
  {
   "cell_type": "code",
   "execution_count": null,
   "metadata": {
    "collapsed": true
   },
   "outputs": [],
   "source": []
  }
 ],
 "metadata": {
  "kernelspec": {
   "display_name": "VPython",
   "language": "python",
   "name": "vpython"
  },
  "language_info": {
   "codemirror_mode": {
    "name": "ipython",
    "version": 2
   },
   "file_extension": ".py",
   "mimetype": "text/x-python",
   "name": "python",
   "nbconvert_exporter": "python",
   "pygments_lexer": "ipython2",
   "version": "2.7.13"
  }
 },
 "nbformat": 4,
 "nbformat_minor": 0
}
