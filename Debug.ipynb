{
 "cells": [
  {
   "cell_type": "code",
   "execution_count": null,
   "metadata": {
    "collapsed": false
   },
   "outputs": [],
   "source": [
    "from vpython import *\n",
    "import math"
   ]
  },
  {
   "cell_type": "code",
   "execution_count": null,
   "metadata": {
    "collapsed": false
   },
   "outputs": [],
   "source": [
    "node_list = {\"a\": [543,323,433,True], \"b\":[324,530,342,False], \"c\":[654,392,214,False],\"d\":[245,250,123,False], \"e\":[234,432,234,False], \"f\":[234,123,142,False], \"g\": [100,200,300,False]}\n",
    "edge_list = [{\"source\":\"a\", \"target\":\"b\"}, {\"source\":\"a\", \"target\":\"c\"}, {\"source\":\"a\", \"target\":\"d\"}, {\"source\":\"a\", \"target\":\"e\"}, {\"source\":\"b\", \"target\":\"d\"}, {\"source\":\"f\", \"target\":\"e\"}]\n",
    "\n",
    "natLength = 200\n",
    "ks = 0.3\n",
    "kg = 90\n",
    "maxRepulsion = 300\n",
    "drawnNodes = []\n",
    "drawnLines = []\n",
    "def draw_nodes(list):\n",
    "    for drawN in list:\n",
    "        xcoords = node_list[drawN][0]\n",
    "        ycoords = node_list[drawN][1]\n",
    "        zcoords = node_list[drawN][2]\n",
    "        id = sphere(pos=vector(xcoords,ycoords,zcoords),radius=10,color=color.green, make_trail = True)\n",
    "        drawnNodes.append(drawN)\n",
    "        drawnNodes.append(id)\n",
    "def draw_edge(list):\n",
    "    for drawE in list:\n",
    "        sourceX = node_list[drawE[\"source\"]][0]\n",
    "        targetX = node_list[drawE[\"target\"]][0]\n",
    "        sourceY = node_list[drawE[\"source\"]][1]\n",
    "        targetY = node_list[drawE[\"target\"]][1]\n",
    "        sourceZ = node_list[drawE[\"source\"]][2]\n",
    "        targetZ = node_list[drawE[\"target\"]][2]\n",
    "        id = arrow(pos = vector(sourceX, sourceY, sourceZ), axis = vector(targetX-sourceX, targetY-sourceY, targetZ-sourceZ), shaftwidth = 5)\n",
    "        drawnLines.append(id)\n",
    "\n",
    "def draw(nodes, edges):\n",
    "    draw_edge(edges)\n",
    "    draw_nodes(nodes)"
   ]
  },
  {
   "cell_type": "code",
   "execution_count": null,
   "metadata": {
    "collapsed": false
   },
   "outputs": [],
   "source": [
    "def move(x,y,z,id):\n",
    "    xPos = node_list[drawnNodes[id]][0]\n",
    "    yPos = node_list[drawnNodes[id]][1]\n",
    "    zPos = node_list[drawnNodes[id]][2]\n",
    "    newxPos = xPos+x\n",
    "    newyPos = yPos+y\n",
    "    newzPos = zPos+z\n",
    "    drawnNodes[id+1].pos=vector(newxPos,newyPos,newzPos)\n",
    "    node_list[drawnNodes[id]][0] = newxPos\n",
    "    node_list[drawnNodes[id]][1] = newyPos\n",
    "    node_list[drawnNodes[id]][2] = newzPos\n",
    "\n",
    "def move_edges():\n",
    "    for i in range(len(edge_list)):\n",
    "        sourcex = node_list[edge_list[i][\"source\"]][0]\n",
    "        sourcey = node_list[edge_list[i][\"source\"]][1]\n",
    "        sourcez = node_list[edge_list[i][\"source\"]][2]\n",
    "        targetx = node_list[edge_list[i][\"target\"]][0] - node_list[edge_list[i][\"source\"]][0]\n",
    "        targety = node_list[edge_list[i][\"target\"]][1] - node_list[edge_list[i][\"source\"]][1]\n",
    "        targetz = node_list[edge_list[i][\"target\"]][2] - node_list[edge_list[i][\"source\"]][2]\n",
    "        drawnLines[i].pos = vector(sourcex,sourcey,sourcez) \n",
    "        drawnLines[i].axis = vector(targetx, targety, targetz)"
   ]
  },
  {
   "cell_type": "code",
   "execution_count": null,
   "metadata": {
    "collapsed": true
   },
   "outputs": [],
   "source": [
    "def hookesLaw(a,b):\n",
    "    xdist = b[0]-a[0]\n",
    "    ydist = b[1]-a[1]\n",
    "    zdist = b[2]-a[2]\n",
    "    d3 = xdist*xdist+ydist*ydist+zdist*zdist\n",
    "    d3 = math.sqrt(d3)\n",
    "    distance = d3-natLength\n",
    "    if d3 == 0:\n",
    "        return [0,0,0]\n",
    "    if d3 != 0:\n",
    "        force = ks*distance/d3\n",
    "    return [xdist*force, ydist*force,zdist*force ]\n",
    "\n",
    "def coulombsLaw(a,b):\n",
    "    xdist = b[0]-a[0]\n",
    "    ydist = b[1]-a[1]\n",
    "    zdist = b[2]-a[2]\n",
    "    d3 = xdist*xdist+ydist*ydist+zdist*zdist\n",
    "    d3 = math.sqrt(d3)\n",
    "    if d3 == 0 or d3 > maxRepulsion:\n",
    "        return [0,0,0]\n",
    "    if d3 != 0 and d3 < maxRepulsion:\n",
    "        force = kg/(d3*d3)\n",
    "    return [-force*xdist,-force*ydist,-force*zdist]\n"
   ]
  },
  {
   "cell_type": "code",
   "execution_count": null,
   "metadata": {
    "collapsed": true
   },
   "outputs": [],
   "source": [
    "def loop():\n",
    "\n",
    "    while True:\n",
    "        sleep(0.25)\n",
    "        for key1 in node_list:\n",
    "            netForceX = 0\n",
    "            netForceY = 0\n",
    "            netForceZ = 0\n",
    "            if node_list[key1][3] == False:\n",
    "                for key2 in node_list:\n",
    "                    if key1 != key2:\n",
    "                        addedXCForce = coulombsLaw(node_list[key1], node_list[key2])[0]\n",
    "                        addedYCForce = coulombsLaw(node_list[key1], node_list[key2])[1]\n",
    "                        addedZCForce = coulombsLaw(node_list[key1], node_list[key2])[2]\n",
    "                        netForceX = netForceX + addedXCForce\n",
    "                        netForceY = netForceY + addedYCForce\n",
    "                        netForceZ = netForceZ + addedZCForce\n",
    "                for i in range(len(edge_list)):\n",
    "                    if key1 == edge_list[i][\"source\"]:\n",
    "                        addedXHForce = hookesLaw(node_list[key1], node_list[edge_list[i][\"target\"]])[0]\n",
    "                        addedYHForce = hookesLaw(node_list[key1], node_list[edge_list[i][\"target\"]])[1]\n",
    "                        addedZHForce = hookesLaw(node_list[key1], node_list[edge_list[i][\"target\"]])[2]\n",
    "                        netForceX = netForceX + addedXHForce\n",
    "                        netForceY = netForceY + addedYHForce\n",
    "                        netForceZ = netForceZ + addedZHForce\n",
    "                    if key1 == edge_list[i][\"target\"]:\n",
    "                        addedXHForce = hookesLaw(node_list[key1], node_list[edge_list[i][\"source\"]])[0]\n",
    "                        addedYHForce = hookesLaw(node_list[key1], node_list[edge_list[i][\"source\"]])[1]\n",
    "                        addedZHForce = hookesLaw(node_list[key1], node_list[edge_list[i][\"source\"]])[2]\n",
    "                        netForceX = netForceX + addedXHForce\n",
    "                        netForceY = netForceY + addedYHForce\n",
    "                        netForceZ = netForceZ + addedZHForce\n",
    "#Draw stuff here\n",
    "                for idNum in range(len(drawnNodes)):\n",
    "                    if drawnNodes[idNum] == key1:\n",
    "                        move(netForceX,netForceY,netForceZ,idNum)\n",
    "        move_edges()\n"
   ]
  },
  {
   "cell_type": "code",
   "execution_count": null,
   "metadata": {
    "collapsed": false
   },
   "outputs": [],
   "source": [
    "draw(node_list,edge_list)\n",
    "loop()"
   ]
  },
  {
   "cell_type": "code",
   "execution_count": null,
   "metadata": {
    "collapsed": true
   },
   "outputs": [],
   "source": []
  }
 ],
 "metadata": {
  "kernelspec": {
   "display_name": "VPython",
   "language": "python",
   "name": "vpython"
  },
  "language_info": {
   "codemirror_mode": {
    "name": "ipython",
    "version": 2
   },
   "file_extension": ".py",
   "mimetype": "text/x-python",
   "name": "python",
   "nbconvert_exporter": "python",
   "pygments_lexer": "ipython2",
   "version": "2.7.13"
  }
 },
 "nbformat": 4,
 "nbformat_minor": 0
}
