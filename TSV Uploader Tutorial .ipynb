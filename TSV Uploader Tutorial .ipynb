{
 "cells": [
  {
   "cell_type": "markdown",
   "metadata": {},
   "source": [
    "# Creating Networks from TSV Tutorial"
   ]
  },
  {
   "cell_type": "markdown",
   "metadata": {},
   "source": [
    "In this tutorial, we will show you how to create an NDEx network using a TSV file and a loading plan file in json that we will refer to as Loading Plan. In addition, we will cover some important files like delim2cx.py."
   ]
  },
  {
   "cell_type": "markdown",
   "metadata": {},
   "source": [
    "## Requirements"
   ]
  },
  {
   "cell_type": "markdown",
   "metadata": {},
   "source": [
    "This tutorial requires:\n",
    "\n",
    "* Python 2.7.9\n",
    "* The latest version of the PIP Python package manager\n",
    "* These packages for TSV Loader:\n",
    "    * ndex\n",
    "    * gspread\n",
    "* Packages specific to this tutorial:\n",
    "    * pandas\n",
    "\n",
    "In addition to these programs and packages, this tutorial requires an account on one of the NDEx servers. In this tutorial, we use the dev2.ndex server with an account called \"Jane Doe\". Jane Doe uses the us\n",
    "    "
   ]
  },
  {
   "cell_type": "markdown",
   "metadata": {},
   "source": [
    "## Documents Used in this Tutorial"
   ]
  },
  {
   "cell_type": "markdown",
   "metadata": {},
   "source": [
    "You need two documents to create a network that are covered in detail below. In this example, we will use two example documents: **idekerlab-1.txt and idekerlab-1-plan.json**. For your own purposes, you may change these documents. "
   ]
  },
  {
   "cell_type": "markdown",
   "metadata": {},
   "source": [
    "The TSV file, in this case idekerlab-1.txt, should be organized where information is separated by tabs. The first row contains the attribute titles, including the source node, source attributes, target node, target attributes, edge, and edge attributes. This format can then be converted to an excel file delimited by tabs. Below is a segment of idekerlab-1.txt as an example:"
   ]
  },
  {
   "cell_type": "code",
   "execution_count": 24,
   "metadata": {
    "collapsed": false
   },
   "outputs": [
    {
     "data": {
      "text/html": [
       "<div>\n",
       "<table border=\"1\" class=\"dataframe\">\n",
       "  <thead>\n",
       "    <tr style=\"text-align: right;\">\n",
       "      <th></th>\n",
       "      <th>BAIT_GENE_ID</th>\n",
       "      <th>BAIT_OFFICIAL_SYMBOL</th>\n",
       "      <th>PREY_GENE_ID</th>\n",
       "      <th>PREY_OFFICIAL_SYMBOL</th>\n",
       "      <th>EXPERIMENTAL_SYSTEM</th>\n",
       "      <th>Float</th>\n",
       "      <th>Boolean</th>\n",
       "      <th>Char</th>\n",
       "      <th>Integer</th>\n",
       "      <th>ListString</th>\n",
       "      <th>ListFloat</th>\n",
       "    </tr>\n",
       "  </thead>\n",
       "  <tbody>\n",
       "    <tr>\n",
       "      <th>0</th>\n",
       "      <td>1432</td>\n",
       "      <td>MAPK14</td>\n",
       "      <td>166</td>\n",
       "      <td>AES</td>\n",
       "      <td>Two-Hybrid</td>\n",
       "      <td>1</td>\n",
       "      <td>True</td>\n",
       "      <td>a</td>\n",
       "      <td>1</td>\n",
       "      <td>[\"Hi\", \"Bye\"]</td>\n",
       "      <td>[1.2, 32.4]</td>\n",
       "    </tr>\n",
       "    <tr>\n",
       "      <th>1</th>\n",
       "      <td>1432</td>\n",
       "      <td>MAPK14</td>\n",
       "      <td>1843</td>\n",
       "      <td>DUSP1</td>\n",
       "      <td>Two-Hybrid</td>\n",
       "      <td>1</td>\n",
       "      <td>False</td>\n",
       "      <td>b</td>\n",
       "      <td>2</td>\n",
       "      <td>[\"Hi\", \"Bye\"]</td>\n",
       "      <td>[1.2, 32.4]</td>\n",
       "    </tr>\n",
       "    <tr>\n",
       "      <th>2</th>\n",
       "      <td>5879</td>\n",
       "      <td>RAC1</td>\n",
       "      <td>5058</td>\n",
       "      <td>PAK1</td>\n",
       "      <td>Two-Hybrid</td>\n",
       "      <td>1</td>\n",
       "      <td>True</td>\n",
       "      <td>c</td>\n",
       "      <td>3</td>\n",
       "      <td>[\"Hi\", \"Bye\"]</td>\n",
       "      <td>[1.2, 32.4]</td>\n",
       "    </tr>\n",
       "    <tr>\n",
       "      <th>3</th>\n",
       "      <td>998</td>\n",
       "      <td>CDC42</td>\n",
       "      <td>396</td>\n",
       "      <td>ARHGDIA</td>\n",
       "      <td>Two-Hybrid</td>\n",
       "      <td>1</td>\n",
       "      <td>False</td>\n",
       "      <td>a</td>\n",
       "      <td>4</td>\n",
       "      <td>[\"Hi\", \"Bye\"]</td>\n",
       "      <td>[1.2, 32.4]</td>\n",
       "    </tr>\n",
       "    <tr>\n",
       "      <th>4</th>\n",
       "      <td>1432</td>\n",
       "      <td>MAPK14</td>\n",
       "      <td>2316</td>\n",
       "      <td>FLNA</td>\n",
       "      <td>Two-Hybrid</td>\n",
       "      <td>1</td>\n",
       "      <td>True</td>\n",
       "      <td>b</td>\n",
       "      <td>5</td>\n",
       "      <td>[\"Hi\", \"Bye\"]</td>\n",
       "      <td>[1.2, 32.4]</td>\n",
       "    </tr>\n",
       "    <tr>\n",
       "      <th>5</th>\n",
       "      <td>5058</td>\n",
       "      <td>PAK1</td>\n",
       "      <td>8874</td>\n",
       "      <td>ARHGEF7</td>\n",
       "      <td>Two-Hybrid</td>\n",
       "      <td>1</td>\n",
       "      <td>False</td>\n",
       "      <td>c</td>\n",
       "      <td>6</td>\n",
       "      <td>[\"Hi\", \"Bye\"]</td>\n",
       "      <td>[1.2, 32.4]</td>\n",
       "    </tr>\n",
       "    <tr>\n",
       "      <th>6</th>\n",
       "      <td>4802</td>\n",
       "      <td>NFYC</td>\n",
       "      <td>4800</td>\n",
       "      <td>NFYA</td>\n",
       "      <td>Two-Hybrid</td>\n",
       "      <td>1</td>\n",
       "      <td>True</td>\n",
       "      <td>a</td>\n",
       "      <td>7</td>\n",
       "      <td>[\"Hi\", \"Bye\"]</td>\n",
       "      <td>[1.2, 32.4]</td>\n",
       "    </tr>\n",
       "    <tr>\n",
       "      <th>7</th>\n",
       "      <td>998</td>\n",
       "      <td>CDC42</td>\n",
       "      <td>5058</td>\n",
       "      <td>PAK1</td>\n",
       "      <td>Two-Hybrid</td>\n",
       "      <td>1</td>\n",
       "      <td>False</td>\n",
       "      <td>b</td>\n",
       "      <td>8</td>\n",
       "      <td>[\"Hi\", \"Bye\"]</td>\n",
       "      <td>[1.2, 32.4]</td>\n",
       "    </tr>\n",
       "    <tr>\n",
       "      <th>8</th>\n",
       "      <td>3265</td>\n",
       "      <td>HRAS</td>\n",
       "      <td>5900</td>\n",
       "      <td>RALGDS</td>\n",
       "      <td>Two-Hybrid</td>\n",
       "      <td>1</td>\n",
       "      <td>True</td>\n",
       "      <td>c</td>\n",
       "      <td>9</td>\n",
       "      <td>[\"Hi\", \"Bye\"]</td>\n",
       "      <td>[1.2, 32.4]</td>\n",
       "    </tr>\n",
       "    <tr>\n",
       "      <th>9</th>\n",
       "      <td>5879</td>\n",
       "      <td>RAC1</td>\n",
       "      <td>5062</td>\n",
       "      <td>PAK2</td>\n",
       "      <td>Two-Hybrid</td>\n",
       "      <td>1</td>\n",
       "      <td>False</td>\n",
       "      <td>a</td>\n",
       "      <td>0</td>\n",
       "      <td>[\"Hi\", \"Bye\"]</td>\n",
       "      <td>[1.2, 32.4]</td>\n",
       "    </tr>\n",
       "  </tbody>\n",
       "</table>\n",
       "</div>"
      ],
      "text/plain": [
       "   BAIT_GENE_ID BAIT_OFFICIAL_SYMBOL  PREY_GENE_ID PREY_OFFICIAL_SYMBOL  \\\n",
       "0          1432               MAPK14           166                  AES   \n",
       "1          1432               MAPK14          1843                DUSP1   \n",
       "2          5879                 RAC1          5058                 PAK1   \n",
       "3           998                CDC42           396              ARHGDIA   \n",
       "4          1432               MAPK14          2316                 FLNA   \n",
       "5          5058                 PAK1          8874              ARHGEF7   \n",
       "6          4802                 NFYC          4800                 NFYA   \n",
       "7           998                CDC42          5058                 PAK1   \n",
       "8          3265                 HRAS          5900               RALGDS   \n",
       "9          5879                 RAC1          5062                 PAK2   \n",
       "\n",
       "  EXPERIMENTAL_SYSTEM  Float Boolean Char  Integer     ListString    ListFloat  \n",
       "0          Two-Hybrid      1    True    a        1  [\"Hi\", \"Bye\"]  [1.2, 32.4]  \n",
       "1          Two-Hybrid      1   False    b        2  [\"Hi\", \"Bye\"]  [1.2, 32.4]  \n",
       "2          Two-Hybrid      1    True    c        3  [\"Hi\", \"Bye\"]  [1.2, 32.4]  \n",
       "3          Two-Hybrid      1   False    a        4  [\"Hi\", \"Bye\"]  [1.2, 32.4]  \n",
       "4          Two-Hybrid      1    True    b        5  [\"Hi\", \"Bye\"]  [1.2, 32.4]  \n",
       "5          Two-Hybrid      1   False    c        6  [\"Hi\", \"Bye\"]  [1.2, 32.4]  \n",
       "6          Two-Hybrid      1    True    a        7  [\"Hi\", \"Bye\"]  [1.2, 32.4]  \n",
       "7          Two-Hybrid      1   False    b        8  [\"Hi\", \"Bye\"]  [1.2, 32.4]  \n",
       "8          Two-Hybrid      1    True    c        9  [\"Hi\", \"Bye\"]  [1.2, 32.4]  \n",
       "9          Two-Hybrid      1   False    a        0  [\"Hi\", \"Bye\"]  [1.2, 32.4]  "
      ]
     },
     "execution_count": 24,
     "metadata": {},
     "output_type": "execute_result"
    }
   ],
   "source": [
    "#Formatting delimited file as table\n",
    "import pandas as pd\n",
    "formatted = pd.read_csv('idekerModified2.txt', sep='\\t')\n",
    "formatted[:10]"
   ]
  },
  {
   "cell_type": "markdown",
   "metadata": {},
   "source": [
    "The loading plan file, in this case idekerlab-1-plan, is a json file that has to contain at least a source plan, a target plan, and a edge plan. These plans specify the interpretation of each column in the TSV file. Columns without a specified interpretation will be ignored.\n",
    "\n",
    "Your plan must include the properties *source_plan, target_plan, and edge_plan*.*Nodemapping*  requires at least an *id_column or node_name_column*, but it could also contain the properties *id_prefix and property_columns*. Layered within *property_columns* is also a requirement to at least contain the *column_name or attribute_name* and possible properties such as *value_prefix, data_type, and default_value*.\n",
    "\n",
    "Source and Target Plan:\n",
    "* **id_column**: unique identifier for nodes in the network\n",
    "* **node_name_column**: name for the node, if no identifier is specified, the name will be used as the identifier\n",
    "* **property_columns**: column names to map to the specified node. Unspecified columns will be ignored.\n",
    "\n",
    "Edge Plan:\n",
    "* **default_predicate**: specifies the predicate (edge type) for edges unless explicity specified\n",
    "* **predicate**: specifies the predicate (edge type) for the specified edge\n",
    "* **property_columns**: column names to map to the specified edge. Unspecified columns will be ignored.\n",
    "\n",
    "Below is idekerlab-1-plan.json as an example:"
   ]
  },
  {
   "cell_type": "code",
   "execution_count": null,
   "metadata": {
    "collapsed": true
   },
   "outputs": [],
   "source": [
    "{\n",
    "    \"context\": {\n",
    "            \"genecards\": \"http://www.genecards.org/cgi-bin/carddisp.pl?gene=\",\n",
    "            \"kegg\" : \"http://identifiers.org/keggpathway/\",\n",
    "            \"GO\" : \"http://www.ebi.ac.uk/QuickGO/GTerm?id=GO:\"\n",
    "        },\n",
    "    \"source_plan\": \n",
    "    {\n",
    "        \"id_prefix\":\"genecards\",\n",
    "        \"id_column\": \"BAIT_OFFICIAL_SYMBOL\",\n",
    "        \"node_name_column\": \"BAIT_OFFICIAL_SYMBOL\",\n",
    "        \"property_columns\": [\"BAIT_GENE_ID\", {\"attribute_name\":\"molecule_type\", \"default_value\": \"unknown\"}]\n",
    "    },\n",
    "    \"target_plan\": \n",
    "    {\n",
    "        \"id_prefix\":\"genecards\",\n",
    "        \"id_column\": \"PREY_OFFICIAL_SYMBOL\",\n",
    "        \"node_name_column\": \"PREY_OFFICIAL_SYMBOL\",\n",
    "        \"property_columns\": [\"PREY_GENE_ID\", {\"attribute_name\":\"molecule_type\", \"default_value\": \"unknown\"}]\n",
    "    },\n",
    "    \"edge_plan\": \n",
    "    {\n",
    "        \"default_predicate\": \"binds to\",\n",
    "        \"property_columns\": [\"EXPERIMENTAL_SYSTEM\", \"Float::float\", \"Boolean::boolean\", \"Char::char\", \"Integer::integer\", \"ListString::list_of_string\", \"ListFloat::list_of_float\"]\n",
    "    }\n",
    "}"
   ]
  },
  {
   "cell_type": "markdown",
   "metadata": {},
   "source": [
    "## delim2cx.py"
   ]
  },
  {
   "cell_type": "markdown",
   "metadata": {},
   "source": [
    "The delim2cx module has two main classes: TSVLoadingPlan and TSV2CXConverter."
   ]
  },
  {
   "cell_type": "markdown",
   "metadata": {},
   "source": [
    "### TSVLoadingPlan"
   ]
  },
  {
   "cell_type": "markdown",
   "metadata": {},
   "source": [
    "The TSVLoadingPlan object contains the structure loaded from the loading plan file and checks it vs a json schema (from the internal file loading_plan_schema.json) to verify that it fulfills all requirements. "
   ]
  },
  {
   "cell_type": "markdown",
   "metadata": {},
   "source": [
    "### TSV2CXConverter"
   ]
  },
  {
   "cell_type": "markdown",
   "metadata": {},
   "source": [
    "A TSV2CXConverter object is then created from the TSV file and the TSVLoadingPlan object. The TSV file is processed as the TSV2CXConverter is instantiated."
   ]
  },
  {
   "cell_type": "code",
   "execution_count": 16,
   "metadata": {
    "collapsed": true
   },
   "outputs": [],
   "source": [
    "import delim2cx as d2c\n",
    "import ndex.client as nc\n",
    "\n",
    "import ndex.beta.toolbox as toolbox\n",
    "import ndex.beta.layouts as layouts\n",
    "import ndex.networkn as networkn\n",
    "import requests"
   ]
  },
  {
   "cell_type": "code",
   "execution_count": 17,
   "metadata": {
    "collapsed": false
   },
   "outputs": [],
   "source": [
    "my_ndex = nc.Ndex(\"http://\" + \"dev2.ndexbio.org\", \"janedoe\", \"janedoepass\")"
   ]
  },
  {
   "cell_type": "code",
   "execution_count": 18,
   "metadata": {
    "collapsed": false
   },
   "outputs": [
    {
     "name": "stdout",
     "output_type": "stream",
     "text": [
      "loading plan from: idekerlab-1-plan-modified.json\n"
     ]
    }
   ],
   "source": [
    "loading_plan_name = \"idekerlab-1-plan-modified.json\"\n",
    "print \"loading plan from: \" + loading_plan_name\n",
    "import_plan = d2c.TSVLoadingPlan(loading_plan_name)"
   ]
  },
  {
   "cell_type": "code",
   "execution_count": 19,
   "metadata": {
    "collapsed": false
   },
   "outputs": [
    {
     "name": "stdout",
     "output_type": "stream",
     "text": [
      "parsing tsv file using loading plan ...\n"
     ]
    }
   ],
   "source": [
    "print \"parsing tsv file using loading plan ...\"\n",
    "tsv_converter = d2c.TSV2CXConverter(import_plan)"
   ]
  },
  {
   "cell_type": "code",
   "execution_count": 20,
   "metadata": {
    "collapsed": false
   },
   "outputs": [
    {
     "name": "stdout",
     "output_type": "stream",
     "text": [
      "\n"
     ]
    }
   ],
   "source": [
    "response = my_ndex.get_network_as_cx_stream(\"2b06a9e9-6724-11e7-8945-0660b7976219\")\n",
    "template_cx = response.json()\n",
    "template_network = networkn.NdexGraph(template_cx)"
   ]
  },
  {
   "cell_type": "code",
   "execution_count": 21,
   "metadata": {
    "collapsed": false
   },
   "outputs": [],
   "source": [
    "tsv_network = tsv_converter.convert_tsv_to_cx(\"idekerModified2.txt\", name=\"TestName\", description = \"My description\")\n",
    "toolbox.apply_network_as_template(tsv_network, template_network)"
   ]
  },
  {
   "cell_type": "code",
   "execution_count": 22,
   "metadata": {
    "collapsed": false
   },
   "outputs": [
    {
     "name": "stdout",
     "output_type": "stream",
     "text": [
      "14 disconnected subgraphs: adding centerpoint attractor with edges to one of the least connected nodes in each subgraph\n"
     ]
    }
   ],
   "source": [
    "if \"df_simple\" == \"df_simple\":\n",
    "    layouts.apply_directed_flow_layout(tsv_network)"
   ]
  },
  {
   "cell_type": "code",
   "execution_count": 23,
   "metadata": {
    "collapsed": false
   },
   "outputs": [
    {
     "data": {
      "text/plain": [
       "u'http://dev2.ndexbio.org/v2/network/f7ba139d-68ac-11e7-8ac9-0660b7976219'"
      ]
     },
     "execution_count": 23,
     "metadata": {},
     "output_type": "execute_result"
    }
   ],
   "source": [
    "\n",
    "my_ndex.save_cx_stream_as_new_network(tsv_network.to_cx_stream())"
   ]
  },
  {
   "cell_type": "markdown",
   "metadata": {},
   "source": [
    "## create_network_from_tsv.py"
   ]
  },
  {
   "cell_type": "markdown",
   "metadata": {},
   "source": [
    "This tutorial uses a python script as an example for the delim2cx module that uploads the network onto the dev2.ndexbio website.  "
   ]
  },
  {
   "cell_type": "markdown",
   "metadata": {},
   "source": [
    "### Parameters"
   ]
  },
  {
   "cell_type": "markdown",
   "metadata": {},
   "source": [
    "In order to upload a network using this script, there are at least seven script parameters necessary: \n",
    "* username\n",
    "* password\n",
    "* server\n",
    "* tsv\n",
    "* plan\n",
    "* name of network\n",
    "* description of network\n",
    "\n",
    "Optional parameters are:\n",
    "* template id\n",
    "* layout\n",
    "* uuid of network to update"
   ]
  },
  {
   "cell_type": "markdown",
   "metadata": {},
   "source": [
    "### Overview"
   ]
  },
  {
   "cell_type": "markdown",
   "metadata": {},
   "source": [
    "Once the parameters are loaded into the script properly, it will first attempt to parse the loading plan and then parse the TSV file using the loading plan. The way that the script does this is outlined in more detail in the section titled delim2cx.py. If there is a specified template that you inputted into the script parameters, the script will load that template. Otherwise, it will go with a default template. Then, it will upload the network onto the server using your username and password. "
   ]
  },
  {
   "cell_type": "markdown",
   "metadata": {},
   "source": [
    "### Loading Networks"
   ]
  },
  {
   "cell_type": "markdown",
   "metadata": {},
   "source": [
    "This section will explain the syntax required to run this program in Jupyter Notebook. Running this program from the command line is very similar."
   ]
  },
  {
   "cell_type": "markdown",
   "metadata": {},
   "source": [
    "### Jupyter Notebook"
   ]
  },
  {
   "cell_type": "markdown",
   "metadata": {},
   "source": [
    "The specific syntax is:"
   ]
  },
  {
   "cell_type": "code",
   "execution_count": null,
   "metadata": {
    "collapsed": true
   },
   "outputs": [],
   "source": [
    "%run ./create_network_from_tsv.py janedoe janedoepass dev2.ndexbio.org idekerlab-1.txt idekerlab-1-plan.json Title_of_Network \"Description of network\""
   ]
  },
  {
   "cell_type": "markdown",
   "metadata": {},
   "source": [
    "Note that after the file name, each parameter that is necessary for the upload follows and is separated from each other by spaces. "
   ]
  }
 ],
 "metadata": {
  "kernelspec": {
   "display_name": "Python 2",
   "language": "python",
   "name": "python2"
  },
  "language_info": {
   "codemirror_mode": {
    "name": "ipython",
    "version": 2
   },
   "file_extension": ".py",
   "mimetype": "text/x-python",
   "name": "python",
   "nbconvert_exporter": "python",
   "pygments_lexer": "ipython2",
   "version": "2.7.13"
  }
 },
 "nbformat": 4,
 "nbformat_minor": 1
}
