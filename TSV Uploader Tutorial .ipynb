{
 "cells": [
  {
   "cell_type": "markdown",
   "metadata": {},
   "source": [
    "# Creating Networks from TSV Tutorial"
   ]
  },
  {
   "cell_type": "markdown",
   "metadata": {},
   "source": [
    "In this tutorial, we will show you how to create an NDEx network using a TSV file and a loading plan file in json that we will refer to as Loading Plan. In addition, we will cover some important files like delim2cx.py."
   ]
  },
  {
   "cell_type": "markdown",
   "metadata": {},
   "source": [
    "## Requirements"
   ]
  },
  {
   "cell_type": "markdown",
   "metadata": {},
   "source": [
    "This tutorial requires:\n",
    "\n",
    "* Python 2.7.9\n",
    "* The latest version of the PIP Python package manager\n",
    "* These packages for TSV Loader:\n",
    "    * ndex\n",
    "    * gspread\n",
    "* Packages specific to this tutorial:\n",
    "    * pandas\n",
    "\n",
    "In addition to these programs and packages, this tutorial requires an account on one of the NDEx servers. In this tutorial, we use the dev2.ndex server with an account called \"Jane Doe\". Jane Doe uses the username of \"janedoe\" and a password of \"janedoepass\". If you wish to use your own account, simply replace credentials for Jane Doe with your own.\n",
    "    "
   ]
  },
  {
   "cell_type": "markdown",
   "metadata": {},
   "source": [
    "## Documents Used in this Tutorial"
   ]
  },
  {
   "cell_type": "markdown",
   "metadata": {},
   "source": [
    "You need two documents to create a network that are covered in detail below. In this example, we will use two example documents: **idekerlab-1.txt and idekerlab-1-plan.json**. For your own purposes, you may change these documents. "
   ]
  },
  {
   "cell_type": "markdown",
   "metadata": {},
   "source": [
    "The TSV file, in this case idekerlab-1.txt, should be organized where information is separated by tabs. The first row contains the attribute titles, including the source node, source attributes, target node, target attributes, edge, and edge attributes. This format can then be converted to an excel file delimited by tabs. Below is a segment of idekerlab-1.txt as an example:"
   ]
  },
  {
   "cell_type": "code",
   "execution_count": null,
   "metadata": {
    "collapsed": false
   },
   "outputs": [],
   "source": [
    "#Formatting delimited file as table\n",
    "import pandas as pd\n",
    "formatted = pd.read_csv('idekerModified2.txt', sep='\\t')\n",
    "formatted[:10]"
   ]
  },
  {
   "cell_type": "markdown",
   "metadata": {},
   "source": [
    "The loading plan file, in this case idekerlab-1-plan, is a json file that has to contain at least a source plan, a target plan, and a edge plan. These plans specify the interpretation of each column in the TSV file. Columns without a specified interpretation will be ignored.\n",
    "\n",
    "Your plan must include the properties *source_plan, target_plan, and edge_plan*.*Nodemapping*  requires at least an *id_column or node_name_column*, but it could also contain the properties *id_prefix and property_columns*. Layered within *property_columns* is also a requirement to at least contain the *column_name or attribute_name* and possible properties such as *value_prefix, data_type, and default_value*.\n",
    "\n",
    "Source and Target Plan:\n",
    "* **id_column**: unique identifier for nodes in the network\n",
    "* **node_name_column**: name for the node, if no identifier is specified, the name will be used as the identifier\n",
    "* **property_columns**: column names to map to the specified node. Unspecified columns will be ignored.\n",
    "\n",
    "Edge Plan:\n",
    "* **default_predicate**: specifies the predicate (edge type) for edges unless explicity specified\n",
    "* **predicate**: specifies the predicate (edge type) for the specified edge\n",
    "* **property_columns**: column names to map to the specified edge. Unspecified columns will be ignored.\n",
    "\n",
    "Below is idekerlab-1-plan.json as an example:"
   ]
  },
  {
   "cell_type": "code",
   "execution_count": null,
   "metadata": {
    "collapsed": true
   },
   "outputs": [],
   "source": [
    "{\n",
    "    \"context\": {\n",
    "            \"genecards\": \"http://www.genecards.org/cgi-bin/carddisp.pl?gene=\",\n",
    "            \"kegg\" : \"http://identifiers.org/keggpathway/\",\n",
    "            \"GO\" : \"http://www.ebi.ac.uk/QuickGO/GTerm?id=GO:\"\n",
    "        },\n",
    "    \"source_plan\": \n",
    "    {\n",
    "        \"id_prefix\":\"genecards\",\n",
    "        \"id_column\": \"BAIT_OFFICIAL_SYMBOL\",\n",
    "        \"node_name_column\": \"BAIT_OFFICIAL_SYMBOL\",\n",
    "        \"property_columns\": [\"BAIT_GENE_ID\", {\"attribute_name\":\"molecule_type\", \"default_value\": \"unknown\"}]\n",
    "    },\n",
    "    \"target_plan\": \n",
    "    {\n",
    "        \"id_prefix\":\"genecards\",\n",
    "        \"id_column\": \"PREY_OFFICIAL_SYMBOL\",\n",
    "        \"node_name_column\": \"PREY_OFFICIAL_SYMBOL\",\n",
    "        \"property_columns\": [\"PREY_GENE_ID\", {\"attribute_name\":\"molecule_type\", \"default_value\": \"unknown\"}]\n",
    "    },\n",
    "    \"edge_plan\": \n",
    "    {\n",
    "        \"default_predicate\": \"binds to\",\n",
    "        \"property_columns\": [\"EXPERIMENTAL_SYSTEM\", \"Float::float\", \"Boolean::boolean\", \"Char::char\", \"Integer::integer\", \"ListString::list_of_string\", \"ListFloat::list_of_float\"]\n",
    "    }\n",
    "}"
   ]
  },
  {
   "cell_type": "markdown",
   "metadata": {},
   "source": [
    "## delim2cx.py"
   ]
  },
  {
   "cell_type": "markdown",
   "metadata": {},
   "source": [
    "The delim2cx module has two main classes: TSVLoadingPlan and TSV2CXConverter."
   ]
  },
  {
   "cell_type": "markdown",
   "metadata": {},
   "source": [
    "### TSVLoadingPlan"
   ]
  },
  {
   "cell_type": "markdown",
   "metadata": {},
   "source": [
    "The TSVLoadingPlan object contains the structure loaded from the loading plan file and checks it vs a json schema (from the internal file loading_plan_schema.json) to verify that it fulfills all requirements. "
   ]
  },
  {
   "cell_type": "markdown",
   "metadata": {},
   "source": [
    "### TSV2CXConverter"
   ]
  },
  {
   "cell_type": "markdown",
   "metadata": {},
   "source": [
    "A TSV2CXConverter object is then created from the TSV file and the TSVLoadingPlan object. The TSV file is processed as the TSV2CXConverter is instantiated."
   ]
  },
  {
   "cell_type": "markdown",
   "metadata": {},
   "source": [
    "## create_network_from_tsv.py"
   ]
  },
  {
   "cell_type": "markdown",
   "metadata": {},
   "source": [
    "This tutorial uses a python script as an example for the delim2cx module that uploads the network onto the dev2.ndexbio website.  "
   ]
  },
  {
   "cell_type": "markdown",
   "metadata": {},
   "source": [
    "### Parameters"
   ]
  },
  {
   "cell_type": "markdown",
   "metadata": {},
   "source": [
    "In order to upload a network using this script, there are at least seven script parameters necessary: \n",
    "* username\n",
    "* password\n",
    "* server\n",
    "* tsv\n",
    "* plan\n",
    "* name of network\n",
    "* description of network\n",
    "\n",
    "Optional parameters are:\n",
    "* template id\n",
    "* layout\n",
    "* uuid of network to update"
   ]
  },
  {
   "cell_type": "markdown",
   "metadata": {},
   "source": [
    "### Overview"
   ]
  },
  {
   "cell_type": "markdown",
   "metadata": {},
   "source": [
    "Once the parameters are loaded into the script properly, it will first attempt to parse the loading plan and then parse the TSV file using the loading plan. The way that the script does this is outlined in more detail in the section titled delim2cx.py. If there is a specified template that you inputted into the script parameters, the script will load that template. Otherwise, it will go with a default template. Then, it will upload the network onto the server using your username and password. "
   ]
  },
  {
   "cell_type": "code",
   "execution_count": 2,
   "metadata": {
    "collapsed": true
   },
   "outputs": [],
   "source": [
    "import delim2cx as d2c\n",
    "import ndex.client as nc\n",
    "\n",
    "import ndex.beta.toolbox as toolbox\n",
    "import ndex.beta.layouts as layouts\n",
    "import ndex.networkn as networkn\n",
    "import requests"
   ]
  },
  {
   "cell_type": "code",
   "execution_count": 3,
   "metadata": {
    "collapsed": false
   },
   "outputs": [],
   "source": [
    "#Creating personal client\n",
    "my_ndex = nc.Ndex(\"http://\" + \"dev2.ndexbio.org\", \"janedoe\", \"janedoepass\")"
   ]
  },
  {
   "cell_type": "code",
   "execution_count": 4,
   "metadata": {
    "collapsed": false
   },
   "outputs": [
    {
     "name": "stdout",
     "output_type": "stream",
     "text": [
      "loading plan from: idekerlab-1-plan-modified.json\n"
     ]
    }
   ],
   "source": [
    "#Retrieving loading plan\n",
    "loading_plan_name = \"idekerlab-1-plan-modified.json\"\n",
    "print \"loading plan from: \" + loading_plan_name\n",
    "import_plan = d2c.TSVLoadingPlan(loading_plan_name)"
   ]
  },
  {
   "cell_type": "code",
   "execution_count": 5,
   "metadata": {
    "collapsed": false
   },
   "outputs": [
    {
     "name": "stdout",
     "output_type": "stream",
     "text": [
      "parsing tsv file using loading plan ...\n"
     ]
    }
   ],
   "source": [
    "#Parsing tsv file with loading plan\n",
    "print \"parsing tsv file using loading plan ...\"\n",
    "tsv_converter = d2c.TSV2CXConverter(import_plan)"
   ]
  },
  {
   "cell_type": "code",
   "execution_count": 6,
   "metadata": {
    "collapsed": false
   },
   "outputs": [
    {
     "name": "stdout",
     "output_type": "stream",
     "text": [
      "\n"
     ]
    }
   ],
   "source": [
    "#Retrieving template\n",
    "response = my_ndex.get_network_as_cx_stream(\"2b06a9e9-6724-11e7-8945-0660b7976219\")\n",
    "template_cx = response.json()\n",
    "template_network = networkn.NdexGraph(template_cx)"
   ]
  },
  {
   "cell_type": "code",
   "execution_count": 7,
   "metadata": {
    "collapsed": false
   },
   "outputs": [],
   "source": [
    "#Applying template to converted tsv file\n",
    "tsv_network = tsv_converter.convert_tsv_to_cx(\"idekerModified2.txt\", name=\"TestName\", description = \"My description\")\n",
    "toolbox.apply_network_as_template(tsv_network, template_network)"
   ]
  },
  {
   "cell_type": "code",
   "execution_count": 8,
   "metadata": {
    "collapsed": false
   },
   "outputs": [
    {
     "name": "stdout",
     "output_type": "stream",
     "text": [
      "14 disconnected subgraphs: adding centerpoint attractor with edges to one of the least connected nodes in each subgraph\n"
     ]
    }
   ],
   "source": [
    "#Applying the df_simple layout to converted tsv file\n",
    "if \"df_simple\" == \"df_simple\":\n",
    "    layouts.apply_directed_flow_layout(tsv_network)"
   ]
  },
  {
   "cell_type": "code",
   "execution_count": 9,
   "metadata": {
    "collapsed": false
   },
   "outputs": [
    {
     "data": {
      "text/plain": [
       "u'http://dev2.ndexbio.org/v2/network/6ae61a0b-68ba-11e7-8ac9-0660b7976219'"
      ]
     },
     "execution_count": 9,
     "metadata": {},
     "output_type": "execute_result"
    }
   ],
   "source": [
    "#Uploading converted tsv file\n",
    "my_ndex.save_cx_stream_as_new_network(tsv_network.to_cx_stream())"
   ]
  },
  {
   "cell_type": "markdown",
   "metadata": {},
   "source": [
    "### Loading Networks"
   ]
  },
  {
   "cell_type": "markdown",
   "metadata": {},
   "source": [
    "This section will explain the syntax required to run this program in Jupyter Notebook. Running this program from the command line is very similar."
   ]
  },
  {
   "cell_type": "markdown",
   "metadata": {},
   "source": [
    "### Jupyter Notebook"
   ]
  },
  {
   "cell_type": "markdown",
   "metadata": {},
   "source": [
    "The specific syntax is:"
   ]
  },
  {
   "cell_type": "code",
   "execution_count": 10,
   "metadata": {
    "collapsed": false
   },
   "outputs": [
    {
     "name": "stdout",
     "output_type": "stream",
     "text": [
      "loading plan from: idekerlab-1-plan-modified.json\n",
      "parsing tsv file using loading plan ...\n",
      "\n",
      "14 disconnected subgraphs: adding centerpoint attractor with edges to one of the least connected nodes in each subgraph\n",
      "Done.\n"
     ]
    }
   ],
   "source": [
    "%run ./create_network_from_tsv.py janedoe janedoepass dev2.ndexbio.org idekerModified2.txt idekerlab-1-plan-modified.json Title_of_Network \"Description of network\" -t \"2b06a9e9-6724-11e7-8945-0660b7976219\" -l \"df_simple\""
   ]
  },
  {
   "cell_type": "markdown",
   "metadata": {},
   "source": [
    "Note that after the file name, each parameter that is necessary for the upload follows and is separated from each other by spaces. "
   ]
  }
 ],
 "metadata": {
  "kernelspec": {
   "display_name": "Python 2",
   "language": "python",
   "name": "python2"
  },
  "language_info": {
   "codemirror_mode": {
    "name": "ipython",
    "version": 2
   },
   "file_extension": ".py",
   "mimetype": "text/x-python",
   "name": "python",
   "nbconvert_exporter": "python",
   "pygments_lexer": "ipython2",
   "version": "2.7.13"
  }
 },
 "nbformat": 4,
 "nbformat_minor": 1
}
