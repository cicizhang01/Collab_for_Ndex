{
 "cells": [
  {
   "cell_type": "markdown",
   "metadata": {},
   "source": [
    "# Creating Networks from TSV Tutorial"
   ]
  },
  {
   "cell_type": "markdown",
   "metadata": {},
   "source": [
    "In this tutorial, we will show you how to create an NDEx network using a TSV file and a loading plan file in json that we will refer to as Loading Plan. In addition, we will cover some important files like delim2cx.py. This tutorial requires Python 2.7.9 and the latest version of the PIP Python package manager for installation. For further details on installing and using the NDEx module, see the NDEx Client Tutorial."
   ]
  },
  {
   "cell_type": "markdown",
   "metadata": {},
   "source": [
    "## Importing Packages"
   ]
  },
  {
   "cell_type": "markdown",
   "metadata": {},
   "source": [
    "First make sure that the NDEx and gspread modules are installed using the PIP Python package manager. "
   ]
  },
  {
   "cell_type": "markdown",
   "metadata": {},
   "source": [
    "## Important Documents"
   ]
  },
  {
   "cell_type": "markdown",
   "metadata": {},
   "source": [
    "You need two documents to create a network that are covered in detail below. In this example, we will use two example documents: **idekerlab-1.txt and idekerlab-1-plan.json**. For your own purposes, you may change these documents. "
   ]
  },
  {
   "cell_type": "markdown",
   "metadata": {},
   "source": [
    "The TSV file, in this case idekerlab-1.txt, should be organized where information is separated by tabs. The first row contains the attribute titles, including the source node, source attributes, target node, target attributes, edge, and edge attributes. This format can then be converted to an excel file delimited by tabs. Below is a segment of idekerlab-1.txt as an example:"
   ]
  },
  {
   "cell_type": "code",
   "execution_count": 8,
   "metadata": {
    "collapsed": false
   },
   "outputs": [
    {
     "data": {
      "text/html": [
       "<div>\n",
       "<table border=\"1\" class=\"dataframe\">\n",
       "  <thead>\n",
       "    <tr style=\"text-align: right;\">\n",
       "      <th></th>\n",
       "      <th>BAIT_GENE_ID</th>\n",
       "      <th>BAIT_OFFICIAL_SYMBOL</th>\n",
       "      <th>PREY_GENE_ID</th>\n",
       "      <th>PREY_OFFICIAL_SYMBOL</th>\n",
       "      <th>EXPERIMENTAL_SYSTEM</th>\n",
       "    </tr>\n",
       "  </thead>\n",
       "  <tbody>\n",
       "    <tr>\n",
       "      <th>0</th>\n",
       "      <td>1432</td>\n",
       "      <td>MAPK14</td>\n",
       "      <td>166</td>\n",
       "      <td>AES</td>\n",
       "      <td>Two-Hybrid</td>\n",
       "    </tr>\n",
       "    <tr>\n",
       "      <th>1</th>\n",
       "      <td>1432</td>\n",
       "      <td>MAPK14</td>\n",
       "      <td>1843</td>\n",
       "      <td>DUSP1</td>\n",
       "      <td>Two-Hybrid</td>\n",
       "    </tr>\n",
       "    <tr>\n",
       "      <th>2</th>\n",
       "      <td>5879</td>\n",
       "      <td>RAC1</td>\n",
       "      <td>5058</td>\n",
       "      <td>PAK1</td>\n",
       "      <td>Two-Hybrid</td>\n",
       "    </tr>\n",
       "    <tr>\n",
       "      <th>3</th>\n",
       "      <td>998</td>\n",
       "      <td>CDC42</td>\n",
       "      <td>396</td>\n",
       "      <td>ARHGDIA</td>\n",
       "      <td>Two-Hybrid</td>\n",
       "    </tr>\n",
       "    <tr>\n",
       "      <th>4</th>\n",
       "      <td>1432</td>\n",
       "      <td>MAPK14</td>\n",
       "      <td>2316</td>\n",
       "      <td>FLNA</td>\n",
       "      <td>Two-Hybrid</td>\n",
       "    </tr>\n",
       "    <tr>\n",
       "      <th>5</th>\n",
       "      <td>5058</td>\n",
       "      <td>PAK1</td>\n",
       "      <td>8874</td>\n",
       "      <td>ARHGEF7</td>\n",
       "      <td>Two-Hybrid</td>\n",
       "    </tr>\n",
       "    <tr>\n",
       "      <th>6</th>\n",
       "      <td>4802</td>\n",
       "      <td>NFYC</td>\n",
       "      <td>4800</td>\n",
       "      <td>NFYA</td>\n",
       "      <td>Two-Hybrid</td>\n",
       "    </tr>\n",
       "    <tr>\n",
       "      <th>7</th>\n",
       "      <td>998</td>\n",
       "      <td>CDC42</td>\n",
       "      <td>5058</td>\n",
       "      <td>PAK1</td>\n",
       "      <td>Two-Hybrid</td>\n",
       "    </tr>\n",
       "    <tr>\n",
       "      <th>8</th>\n",
       "      <td>3265</td>\n",
       "      <td>HRAS</td>\n",
       "      <td>5900</td>\n",
       "      <td>RALGDS</td>\n",
       "      <td>Two-Hybrid</td>\n",
       "    </tr>\n",
       "    <tr>\n",
       "      <th>9</th>\n",
       "      <td>5879</td>\n",
       "      <td>RAC1</td>\n",
       "      <td>5062</td>\n",
       "      <td>PAK2</td>\n",
       "      <td>Two-Hybrid</td>\n",
       "    </tr>\n",
       "  </tbody>\n",
       "</table>\n",
       "</div>"
      ],
      "text/plain": [
       "   BAIT_GENE_ID BAIT_OFFICIAL_SYMBOL  PREY_GENE_ID PREY_OFFICIAL_SYMBOL  \\\n",
       "0          1432               MAPK14           166                  AES   \n",
       "1          1432               MAPK14          1843                DUSP1   \n",
       "2          5879                 RAC1          5058                 PAK1   \n",
       "3           998                CDC42           396              ARHGDIA   \n",
       "4          1432               MAPK14          2316                 FLNA   \n",
       "5          5058                 PAK1          8874              ARHGEF7   \n",
       "6          4802                 NFYC          4800                 NFYA   \n",
       "7           998                CDC42          5058                 PAK1   \n",
       "8          3265                 HRAS          5900               RALGDS   \n",
       "9          5879                 RAC1          5062                 PAK2   \n",
       "\n",
       "  EXPERIMENTAL_SYSTEM  \n",
       "0          Two-Hybrid  \n",
       "1          Two-Hybrid  \n",
       "2          Two-Hybrid  \n",
       "3          Two-Hybrid  \n",
       "4          Two-Hybrid  \n",
       "5          Two-Hybrid  \n",
       "6          Two-Hybrid  \n",
       "7          Two-Hybrid  \n",
       "8          Two-Hybrid  \n",
       "9          Two-Hybrid  "
      ]
     },
     "execution_count": 8,
     "metadata": {},
     "output_type": "execute_result"
    }
   ],
   "source": [
    "#The below code is not important, it is just for formatting\n",
    "import pandas as pd\n",
    "formatted = pd.read_csv('idekerlab-1.txt', sep='\\t')\n",
    "formatted[:10]"
   ]
  },
  {
   "cell_type": "markdown",
   "metadata": {},
   "source": [
    "The loading plan file, in this case idekerlab-1-plan, is a json file that has to contain at least a source plan, a target plan, and a edge plan. Within each plan, clearly label what each column in the TSV file represents, whether it's a node attribute or node name. Below is a segment of idekerlab-1-plan.json as an example:"
   ]
  },
  {
   "cell_type": "code",
   "execution_count": null,
   "metadata": {
    "collapsed": true
   },
   "outputs": [],
   "source": [
    "{\n",
    "    \"source_plan\": \n",
    "    {\n",
    "        \"id_column\": \"BAIT_OFFICIAL_SYMBOL\",\n",
    "        \"node_name_column\": \"BAIT_OFFICIAL_SYMBOL\",\n",
    "        \"property_columns\": [\"BAIT_GENE_ID\"]\n",
    "    },\n",
    "    \"target_plan\": \n",
    "    {\n",
    "        \"id_column\": \"PREY_OFFICIAL_SYMBOL\",\n",
    "        \"node_name_column\": \"PREY_OFFICIAL_SYMBOL\",\n",
    "        \"property_columns\": [\"PREY_GENE_ID\"]\n",
    "    },\n",
    "    \"edge_plan\": \n",
    "    {\n",
    "        \"default_predicate\": \"binds to\",\n",
    "        \"property_columns\": [\"EXPERIMENTAL_SYSTEM\"]\n",
    "    }\n",
    "}"
   ]
  },
  {
   "cell_type": "markdown",
   "metadata": {},
   "source": [
    "## delim2cx.py"
   ]
  },
  {
   "cell_type": "markdown",
   "metadata": {},
   "source": [
    "The delim2cx module has two main classes: TSVLoadingPlan and TSV2CXConverter."
   ]
  },
  {
   "cell_type": "markdown",
   "metadata": {},
   "source": [
    "### TSVLoadingPlan"
   ]
  },
  {
   "cell_type": "markdown",
   "metadata": {},
   "source": [
    "The primary purpose of TSVLoadingPlan is to check that the Loading Plan fulfills all requirements that are necessary to properly load the network. In order to accomplish that, this compares the Loading Plan to another json file called loading_plan_schema.json. Your plan must include the properties *source_plan, target_plan, and edge_plan*; the first two are similarly defined as *Nodemapping* which is clearly outlined in a previous section of the code. *Nodemapping*  requires at least an *id_column or node_name_column*, but it could also contain the properties *id_prefix and property_columns*. Layered within *property_columns* is also a requirement to at least contain the *column_name or attribute_name* and possible properties such as *value_prefix, data_type, and default_value*."
   ]
  },
  {
   "cell_type": "markdown",
   "metadata": {},
   "source": [
    "### TSV2CXConverter"
   ]
  },
  {
   "cell_type": "markdown",
   "metadata": {},
   "source": [
    "If TSVLoadingPlan does not bring up any errors in the Loading Plan, a TSV2CXConverter object will be created from the TSV file and the Loading Plan."
   ]
  },
  {
   "cell_type": "markdown",
   "metadata": {},
   "source": [
    "This class has two main functions that work together to convert the TSV file: *check_header_vs_plan(), and convert_tsv_to_cx()*. *check_header_vs_plan()* makes sure that the columns and headers matches the Loading Plan that you loaded, and if it passes this check, *convert_tsv_to_cx()* will be run that goes down every row in the TSV file, creates any necessary nodes, creates edges between the specified nodes in the TSV file, and updates the network that you are creating."
   ]
  },
  {
   "cell_type": "markdown",
   "metadata": {},
   "source": [
    "## create_network_from_tsv.py"
   ]
  },
  {
   "cell_type": "markdown",
   "metadata": {},
   "source": [
    "This tutorial uses a python script as an example for the delim2cx module that uploads the network onto the dev2.ndexbio website.  "
   ]
  },
  {
   "cell_type": "markdown",
   "metadata": {},
   "source": [
    "### Parameters"
   ]
  },
  {
   "cell_type": "markdown",
   "metadata": {},
   "source": [
    "In order to upload a network using this script, there are at least seven script parameters necessary: \n",
    "* username\n",
    "* password\n",
    "* server\n",
    "* tsv\n",
    "* plan\n",
    "* name of network\n",
    "* description of network\n",
    "\n",
    "Optional parameters are:\n",
    "* template id\n",
    "* layout\n",
    "* uuid of network to update"
   ]
  },
  {
   "cell_type": "markdown",
   "metadata": {},
   "source": [
    "### Overview"
   ]
  },
  {
   "cell_type": "markdown",
   "metadata": {},
   "source": [
    "Once the parameters are loaded into the script properly, it will first attempt to parse the loading plan and then parse the TSV file using the loading plan. The way that the script does this is outlined in more detail in the section titled delim2cx.py. If there is a specified template that you inputted into the script parameters, the script will load that template. Otherwise, it will go with a default template. Then, it will upload the network onto the server using your username and password. "
   ]
  },
  {
   "cell_type": "markdown",
   "metadata": {},
   "source": [
    "### Loading Networks"
   ]
  },
  {
   "cell_type": "markdown",
   "metadata": {},
   "source": [
    "This section will explain the syntax required to run this program in Jupyter Notebook. Running this program from the command line is very similar."
   ]
  },
  {
   "cell_type": "markdown",
   "metadata": {},
   "source": [
    "### Jupyter Notebook"
   ]
  },
  {
   "cell_type": "markdown",
   "metadata": {},
   "source": [
    "The specific syntax is:"
   ]
  },
  {
   "cell_type": "code",
   "execution_count": 2,
   "metadata": {
    "collapsed": false
   },
   "outputs": [
    {
     "name": "stdout",
     "output_type": "stream",
     "text": [
      "loading plan from: idekerlab-1-plan.json\n",
      "parsing tsv file using loading plan ...\n",
      "Done.\n"
     ]
    }
   ],
   "source": [
    "%run ./create_network_from_tsv.py janedoe janedoepass dev2.ndexbio.org idekerlab-1.txt idekerlab-1-plan.json Title_of_Network \"Description of network\""
   ]
  },
  {
   "cell_type": "markdown",
   "metadata": {},
   "source": [
    "Note that after the file name, each parameter that is necessary for the upload follows and is separated from each other by spaces. "
   ]
  }
 ],
 "metadata": {
  "kernelspec": {
   "display_name": "Python 2",
   "language": "python",
   "name": "python2"
  },
  "language_info": {
   "codemirror_mode": {
    "name": "ipython",
    "version": 2
   },
   "file_extension": ".py",
   "mimetype": "text/x-python",
   "name": "python",
   "nbconvert_exporter": "python",
   "pygments_lexer": "ipython2",
   "version": "2.7.13"
  }
 },
 "nbformat": 4,
 "nbformat_minor": 0
}
