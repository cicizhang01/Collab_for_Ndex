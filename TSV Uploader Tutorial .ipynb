{
 "cells": [
  {
   "cell_type": "markdown",
   "metadata": {},
   "source": [
    "# Creating Networks from TSV Tutorial"
   ]
  },
  {
   "cell_type": "markdown",
   "metadata": {},
   "source": [
    "In this tutorial, we will show you how to create an NDEx network using a TSV file and a loading plan file in json that we will refer to as Loading Plan. In addition, we will cover some important files like delim2cx.py."
   ]
  },
  {
   "cell_type": "markdown",
   "metadata": {},
   "source": [
    "## Requirements"
   ]
  },
  {
   "cell_type": "markdown",
   "metadata": {},
   "source": [
    "This tutorial requires:\n",
    "\n",
    "* Python 2.7.9\n",
    "* The latest version of the PIP Python package manager\n",
    "* These packages for TSV Loader:\n",
    "    * ndex\n",
    "    * gspread\n",
    "* Packages specific to this tutorial:\n",
    "    * pandas\n",
    "    "
   ]
  },
  {
   "cell_type": "markdown",
   "metadata": {},
   "source": [
    "## Documents Used in this Tutorial"
   ]
  },
  {
   "cell_type": "markdown",
   "metadata": {},
   "source": [
    "You need two documents to create a network that are covered in detail below. In this example, we will use two example documents: **idekerlab-1.txt and idekerlab-1-plan.json**. For your own purposes, you may change these documents. "
   ]
  },
  {
   "cell_type": "markdown",
   "metadata": {},
   "source": [
    "The TSV file, in this case idekerlab-1.txt, should be organized where information is separated by tabs. The first row contains the attribute titles, including the source node, source attributes, target node, target attributes, edge, and edge attributes. This format can then be converted to an excel file delimited by tabs. Below is a segment of idekerlab-1.txt as an example:"
   ]
  },
  {
   "cell_type": "code",
   "execution_count": null,
   "metadata": {
    "collapsed": true
   },
   "outputs": [],
   "source": [
    "#Formatting delimited file as table\n",
    "import pandas as pd\n",
    "formatted = pd.read_csv('idekerlab-1.txt', sep='\\t')\n",
    "formatted[:10]"
   ]
  },
  {
   "cell_type": "markdown",
   "metadata": {},
   "source": [
    "The loading plan file, in this case idekerlab-1-plan, is a json file that has to contain at least a source plan, a target plan, and a edge plan. These plans specify the interpretation of each column in the TSV file. Columns without a specified interpretation will be ignored.\n",
    "\n",
    "Your plan must include the properties *source_plan, target_plan, and edge_plan*.*Nodemapping*  requires at least an *id_column or node_name_column*, but it could also contain the properties *id_prefix and property_columns*. Layered within *property_columns* is also a requirement to at least contain the *column_name or attribute_name* and possible properties such as *value_prefix, data_type, and default_value*.\n",
    "\n",
    "Source and Target Plan:\n",
    "* **id_column**: unique identifier for nodes in the network\n",
    "* **node_name_column**: name for the node, if no identifier is specified, the name will be used as the identifier\n",
    "* **property_columns**: column names to map to the specified node. Unspecified columns will be ignored.\n",
    "\n",
    "Edge Plan:\n",
    "* **default_predicate**: specifies the predicate (edge type) for edges unless explicity specified\n",
    "* **predicate**: specifies the predicate (edge type) for the specified edge\n",
    "* **property_columns**: column names to map to the specified edge. Unspecified columns will be ignored.\n",
    "\n",
    "Below is idekerlab-1-plan.json as an example:"
   ]
  },
  {
   "cell_type": "code",
   "execution_count": null,
   "metadata": {
    "collapsed": true
   },
   "outputs": [],
   "source": [
    "{\n",
    "    \"source_plan\": \n",
    "    {\n",
    "        \"id_column\": \"BAIT_OFFICIAL_SYMBOL\",\n",
    "        \"node_name_column\": \"BAIT_OFFICIAL_SYMBOL\",\n",
    "        \"property_columns\": [\"BAIT_GENE_ID\"]\n",
    "    },\n",
    "    \"target_plan\": \n",
    "    {\n",
    "        \"id_column\": \"PREY_OFFICIAL_SYMBOL\",\n",
    "        \"node_name_column\": \"PREY_OFFICIAL_SYMBOL\",\n",
    "        \"property_columns\": [\"PREY_GENE_ID\"]\n",
    "    },\n",
    "    \"edge_plan\": \n",
    "    {\n",
    "        \"default_predicate\": \"binds to\",\n",
    "        \"property_columns\": [\"EXPERIMENTAL_SYSTEM\"]\n",
    "    }\n",
    "}"
   ]
  },
  {
   "cell_type": "markdown",
   "metadata": {},
   "source": [
    "## delim2cx.py"
   ]
  },
  {
   "cell_type": "markdown",
   "metadata": {},
   "source": [
    "The delim2cx module has two main classes: TSVLoadingPlan and TSV2CXConverter."
   ]
  },
  {
   "cell_type": "markdown",
   "metadata": {},
   "source": [
    "### TSVLoadingPlan"
   ]
  },
  {
   "cell_type": "markdown",
   "metadata": {},
   "source": [
    "The TSVLoadingPlan object contains the structure loaded from the loading plan file and checks it vs a json schema (from the internal file loading_plan_schema.json) to verify that it fulfills all requirements. "
   ]
  },
  {
   "cell_type": "markdown",
   "metadata": {},
   "source": [
    "### TSV2CXConverter"
   ]
  },
  {
   "cell_type": "markdown",
   "metadata": {},
   "source": [
    "A TSV2CXConverter object is then created from the TSV file and the TSVLoadingPlan object. The TSV file is processed as the TSV2CXConverter is instantiated."
   ]
  },
  {
   "cell_type": "code",
   "execution_count": 14,
   "metadata": {
    "collapsed": true
   },
   "outputs": [],
   "source": [
    "import delim2cx as d2c\n",
    "import ndex.client as nc\n",
    "\n",
    "import ndex.beta.toolbox as toolbox\n",
    "import ndex.beta.layouts as layouts\n",
    "import ndex.networkn as networkn\n",
    "import requests"
   ]
  },
  {
   "cell_type": "code",
   "execution_count": 15,
   "metadata": {
    "collapsed": false
   },
   "outputs": [
    {
     "name": "stdout",
     "output_type": "stream",
     "text": [
      "loading plan from: idekerlab-1-plan.json\n"
     ]
    }
   ],
   "source": [
    "my_ndex = nc.Ndex(\"http://\" + dev2.ndexbio.org, janedoe, janedoepass)\n",
    "loading_plan_name = \"idekerlab-1-plan.json\"\n",
    "print \"loading plan from: \" + loading_plan_name\n",
    "import_plan = d2c.TSVLoadingPlan(loading_plan_name)"
   ]
  },
  {
   "cell_type": "code",
   "execution_count": 16,
   "metadata": {
    "collapsed": false
   },
   "outputs": [
    {
     "name": "stdout",
     "output_type": "stream",
     "text": [
      "parsing tsv file using loading plan ...\n"
     ]
    }
   ],
   "source": [
    "print \"parsing tsv file using loading plan ...\"\n",
    "tsv_converter = d2c.TSV2CXConverter(import_plan)"
   ]
  },
  {
   "cell_type": "code",
   "execution_count": 2,
   "metadata": {
    "collapsed": false
   },
   "outputs": [
    {
     "ename": "NameError",
     "evalue": "name 'my_ndex' is not defined",
     "output_type": "error",
     "traceback": [
      "\u001b[0;31m---------------------------------------------------------------------------\u001b[0m",
      "\u001b[0;31mNameError\u001b[0m                                 Traceback (most recent call last)",
      "\u001b[0;32m<ipython-input-2-adff0070b96c>\u001b[0m in \u001b[0;36m<module>\u001b[0;34m()\u001b[0m\n\u001b[0;32m----> 1\u001b[0;31m \u001b[0mresponse\u001b[0m \u001b[0;34m=\u001b[0m \u001b[0mmy_ndex\u001b[0m\u001b[0;34m.\u001b[0m\u001b[0mget_network_as_cx_stream\u001b[0m\u001b[0;34m(\u001b[0m\u001b[0marg\u001b[0m\u001b[0;34m.\u001b[0m\u001b[0mtemplate_id\u001b[0m\u001b[0;34m)\u001b[0m\u001b[0;34m\u001b[0m\u001b[0m\n\u001b[0m\u001b[1;32m      2\u001b[0m \u001b[0mtemplate_cx\u001b[0m \u001b[0;34m=\u001b[0m \u001b[0mresponse\u001b[0m\u001b[0;34m.\u001b[0m\u001b[0mjson\u001b[0m\u001b[0;34m(\u001b[0m\u001b[0;34m)\u001b[0m\u001b[0;34m\u001b[0m\u001b[0m\n\u001b[1;32m      3\u001b[0m \u001b[0mtemplate_network\u001b[0m \u001b[0;34m=\u001b[0m \u001b[0mnetworkn\u001b[0m\u001b[0;34m.\u001b[0m\u001b[0mNdexGraph\u001b[0m\u001b[0;34m(\u001b[0m\u001b[0mtemplate_cx\u001b[0m\u001b[0;34m)\u001b[0m\u001b[0;34m\u001b[0m\u001b[0m\n\u001b[1;32m      4\u001b[0m \u001b[0mtoolbox\u001b[0m\u001b[0;34m.\u001b[0m\u001b[0mapply_network_as_template\u001b[0m\u001b[0;34m(\u001b[0m\u001b[0mtsv_network\u001b[0m\u001b[0;34m,\u001b[0m \u001b[0mtemplate_network\u001b[0m\u001b[0;34m)\u001b[0m\u001b[0;34m\u001b[0m\u001b[0m\n",
      "\u001b[0;31mNameError\u001b[0m: name 'my_ndex' is not defined"
     ]
    }
   ],
   "source": [
    "response = my_ndex.get_network_as_cx_stream(arg.template_id)\n",
    "template_cx = response.json()\n",
    "template_network = networkn.NdexGraph(template_cx)\n",
    "toolbox.apply_network_as_template(tsv_network, template_network)"
   ]
  },
  {
   "cell_type": "code",
   "execution_count": 20,
   "metadata": {
    "collapsed": false
   },
   "outputs": [
    {
     "ename": "NameError",
     "evalue": "name 'network_attributes' is not defined",
     "output_type": "error",
     "traceback": [
      "\u001b[0;31m---------------------------------------------------------------------------\u001b[0m",
      "\u001b[0;31mNameError\u001b[0m                                 Traceback (most recent call last)",
      "\u001b[0;32m<ipython-input-20-82acf9a0e877>\u001b[0m in \u001b[0;36m<module>\u001b[0;34m()\u001b[0m\n\u001b[0;32m----> 1\u001b[0;31m \u001b[0mtsv_network\u001b[0m \u001b[0;34m=\u001b[0m \u001b[0mtsv_converter\u001b[0m\u001b[0;34m.\u001b[0m\u001b[0mconvert_tsv_to_cx\u001b[0m\u001b[0;34m(\u001b[0m\u001b[0;34m\"idekerlab-1.txt\"\u001b[0m\u001b[0;34m,\u001b[0m \u001b[0mnetwork_attributes\u001b[0m\u001b[0;34m=\u001b[0m\u001b[0mnetwork_attributes\u001b[0m\u001b[0;34m,\u001b[0m \u001b[0mprovenance\u001b[0m\u001b[0;34m=\u001b[0m\u001b[0mprovenance\u001b[0m\u001b[0;34m)\u001b[0m\u001b[0;34m\u001b[0m\u001b[0m\n\u001b[0m",
      "\u001b[0;31mNameError\u001b[0m: name 'network_attributes' is not defined"
     ]
    }
   ],
   "source": [
    "tsv_network = tsv_converter.convert_tsv_to_cx(\"idekerlab-1.txt\", network_attributes=network_attributes, provenance=provenance)"
   ]
  },
  {
   "cell_type": "code",
   "execution_count": null,
   "metadata": {
    "collapsed": true
   },
   "outputs": [],
   "source": [
    "toolbox.apply_network_as_template(tsv_network, template_network)"
   ]
  },
  {
   "cell_type": "code",
   "execution_count": null,
   "metadata": {
    "collapsed": true
   },
   "outputs": [],
   "source": [
    "\n",
    "my_ndex.save_cx_stream_as_new_network(tsv_network.to_cx_stream())"
   ]
  },
  {
   "cell_type": "code",
   "execution_count": null,
   "metadata": {
    "collapsed": true
   },
   "outputs": [],
   "source": [
    "    if template_network:\n",
    "    if arg.layout:\n",
    "        if arg.layout == \"df_simple\":\n",
    "            layouts.apply_directed_flow_layout(tsv_network)"
   ]
  },
  {
   "cell_type": "markdown",
   "metadata": {},
   "source": [
    "## create_network_from_tsv.py"
   ]
  },
  {
   "cell_type": "markdown",
   "metadata": {},
   "source": [
    "This tutorial uses a python script as an example for the delim2cx module that uploads the network onto the dev2.ndexbio website.  "
   ]
  },
  {
   "cell_type": "markdown",
   "metadata": {},
   "source": [
    "### Parameters"
   ]
  },
  {
   "cell_type": "markdown",
   "metadata": {},
   "source": [
    "In order to upload a network using this script, there are at least seven script parameters necessary: \n",
    "* username\n",
    "* password\n",
    "* server\n",
    "* tsv\n",
    "* plan\n",
    "* name of network\n",
    "* description of network\n",
    "\n",
    "Optional parameters are:\n",
    "* template id\n",
    "* layout\n",
    "* uuid of network to update"
   ]
  },
  {
   "cell_type": "markdown",
   "metadata": {},
   "source": [
    "### Overview"
   ]
  },
  {
   "cell_type": "markdown",
   "metadata": {},
   "source": [
    "Once the parameters are loaded into the script properly, it will first attempt to parse the loading plan and then parse the TSV file using the loading plan. The way that the script does this is outlined in more detail in the section titled delim2cx.py. If there is a specified template that you inputted into the script parameters, the script will load that template. Otherwise, it will go with a default template. Then, it will upload the network onto the server using your username and password. "
   ]
  },
  {
   "cell_type": "markdown",
   "metadata": {},
   "source": [
    "### Loading Networks"
   ]
  },
  {
   "cell_type": "markdown",
   "metadata": {},
   "source": [
    "This section will explain the syntax required to run this program in Jupyter Notebook. Running this program from the command line is very similar."
   ]
  },
  {
   "cell_type": "markdown",
   "metadata": {},
   "source": [
    "### Jupyter Notebook"
   ]
  },
  {
   "cell_type": "markdown",
   "metadata": {},
   "source": [
    "The specific syntax is:"
   ]
  },
  {
   "cell_type": "code",
   "execution_count": null,
   "metadata": {
    "collapsed": true
   },
   "outputs": [],
   "source": [
    "%run ./create_network_from_tsv.py janedoe janedoepass dev2.ndexbio.org idekerlab-1.txt idekerlab-1-plan.json Title_of_Network \"Description of network\""
   ]
  },
  {
   "cell_type": "markdown",
   "metadata": {},
   "source": [
    "Note that after the file name, each parameter that is necessary for the upload follows and is separated from each other by spaces. "
   ]
  }
 ],
 "metadata": {
  "kernelspec": {
   "display_name": "Python 2",
   "language": "python",
   "name": "python2"
  },
  "language_info": {
   "codemirror_mode": {
    "name": "ipython",
    "version": 2
   },
   "file_extension": ".py",
   "mimetype": "text/x-python",
   "name": "python",
   "nbconvert_exporter": "python",
   "pygments_lexer": "ipython2",
   "version": "2.7.13"
  }
 },
 "nbformat": 4,
 "nbformat_minor": 1
}
